{
 "cells": [
  {
   "cell_type": "markdown",
   "metadata": {},
   "source": [
    "# Speeches project\n",
    "Maciej Lorens"
   ]
  },
  {
   "cell_type": "code",
   "execution_count": 1,
   "metadata": {},
   "outputs": [],
   "source": [
    "import re\n",
    "import numpy as np\n",
    "import pandas as pd\n",
    "import matplotlib.pyplot as plt\n",
    "import seaborn as sn\n",
    "sn.set_theme(style='darkgrid')\n",
    "\n",
    "# Text mining modules from Sklearn\n",
    "from sklearn.cluster import KMeans\n",
    "from sklearn.feature_extraction.text import TfidfVectorizer\n",
    "from sklearn.decomposition import PCA\n",
    "\n",
    "# Modules from nltk\n",
    "from nltk.tokenize import word_tokenize\n",
    "from nltk.stem import WordNetLemmatizer\n",
    "from nltk.corpus import stopwords\n",
    "from nltk.sentiment.vader import SentimentIntensityAnalyzer\n",
    "\n",
    "analyser = SentimentIntensityAnalyzer()\n",
    "\n",
    "lemmatizer = WordNetLemmatizer()"
   ]
  },
  {
   "cell_type": "code",
   "execution_count": 2,
   "metadata": {},
   "outputs": [],
   "source": [
    "# Function for cleaning the text\n",
    "def preprocess_text(text):\n",
    "\n",
    "    # Removing special characters, punctuation, whitespaces and numbers\n",
    "    text_clean = re.sub(\"[^a-zA-Z0-9 \\n\\.]\", \"\", text)\n",
    "    text_clean = re.sub(\" +\", \" \", text_clean)\n",
    "    text_clean = re.sub(r\"[^\\w\\s]\",\"\", text_clean)\n",
    "    text_clean = re.sub(\"\\d\", \"\", text_clean)\n",
    "\n",
    "    # Changing the text into lowercase\n",
    "    text_clean = text_clean.lower()\n",
    "\n",
    "    # Applying tokenization to the text\n",
    "    word_tokens = word_tokenize(text_clean)\n",
    "\n",
    "    # Removing english stopwords\n",
    "    stop_words = set(stopwords.words(\"english\")) \n",
    "    word_tokens = [w for w in word_tokens if w not in stop_words]\n",
    "\n",
    "    # Applying lemmatization to the tokens\n",
    "    word_tokens = [lemmatizer.lemmatize(w) for w in word_tokens]\n",
    "\n",
    "    text_clean = \" \".join(word_tokens)\n",
    "\n",
    "    return text_clean\n",
    "\n",
    "\n",
    "# Function to plot SSE for a chosen range of k number of clusters\n",
    "def get_clusters_number(data, max_k):\n",
    "\n",
    "    sse = []\n",
    "    k_range = range(2, max_k+1)\n",
    "\n",
    "    for k in k_range:\n",
    "        kfit = KMeans(n_clusters=k, n_init='auto', random_state=42)\n",
    "        sse.append(kfit.fit(data).inertia_)\n",
    "\n",
    "    plt.plot(k_range, sse, marker='o')\n",
    "    plt.title(\"SSE for k number of clusters\")\n",
    "    plt.xlabel(\"k\")\n",
    "    plt.ylabel(\"SSE\")\n",
    "    plt.xticks(k_range)\n",
    "    plt.show()\n",
    "\n",
    "\n",
    "# Function to plot the clusters\n",
    "def plot_clusters(tfidf_vectors, clusters, num_k):\n",
    "\n",
    "    # Computing the pca vectors for visualizing the clusters\n",
    "    pca = PCA(n_components=2)\n",
    "    pca_vectors = pca.fit_transform(tfidf_vectors.toarray())\n",
    "\n",
    "    # Plotting the clusters\n",
    "    plt.scatter(pca_vectors[:, 0], pca_vectors[:, 1], c=clusters, cmap='viridis')\n",
    "    plt.title(f\"Clustering results for k={num_k}\")\n",
    "    plt.xlabel(f\"Principal Component 1 ({round(pca.explained_variance_[0]*100, 2)}%)\")\n",
    "    plt.ylabel(f\"Principal Component 2 ({round(pca.explained_variance_[1]*100, 2)}%)\")\n",
    "    plt.show()\n",
    "\n",
    "\n",
    "# Function to get the top n keywords for each cluster\n",
    "def get_top_keywords(data, clusters, labels, n_terms):\n",
    "    \n",
    "    df = pd.DataFrame(data.todense()).groupby(clusters).mean()\n",
    "    \n",
    "    for i, r in df.iterrows():\n",
    "        print(f'\\nCluster {i}')\n",
    "        # Sorting values in decreasing order and printing the first n terms\n",
    "        print(', '.join([labels[t] for t in np.argsort(r)[::-1][:n_terms]]))"
   ]
  },
  {
   "cell_type": "code",
   "execution_count": 3,
   "metadata": {},
   "outputs": [],
   "source": [
    "speeches_df = pd.read_csv(\"Erdogan_translated_speeches.csv\")"
   ]
  },
  {
   "cell_type": "code",
   "execution_count": 4,
   "metadata": {},
   "outputs": [
    {
     "data": {
      "text/html": [
       "<div>\n",
       "<style scoped>\n",
       "    .dataframe tbody tr th:only-of-type {\n",
       "        vertical-align: middle;\n",
       "    }\n",
       "\n",
       "    .dataframe tbody tr th {\n",
       "        vertical-align: top;\n",
       "    }\n",
       "\n",
       "    .dataframe thead th {\n",
       "        text-align: right;\n",
       "    }\n",
       "</style>\n",
       "<table border=\"1\" class=\"dataframe\">\n",
       "  <thead>\n",
       "    <tr style=\"text-align: right;\">\n",
       "      <th></th>\n",
       "      <th>Translated_title</th>\n",
       "      <th>Date</th>\n",
       "      <th>Translated_text</th>\n",
       "      <th>Event_date</th>\n",
       "      <th>Detail</th>\n",
       "      <th>When</th>\n",
       "    </tr>\n",
       "  </thead>\n",
       "  <tbody>\n",
       "    <tr>\n",
       "      <th>0</th>\n",
       "      <td>Their Speech at the Inauguration Ceremony</td>\n",
       "      <td>2023-06-03</td>\n",
       "      <td>\\n\\nDear Nation, Dear Heads of State and Gover...</td>\n",
       "      <td>2023-05-28</td>\n",
       "      <td>Recep Tayyip Erdoğan won the election between ...</td>\n",
       "      <td>after</td>\n",
       "    </tr>\n",
       "    <tr>\n",
       "      <th>1</th>\n",
       "      <td>Their Speech at the Social Complex After the E...</td>\n",
       "      <td>2023-05-28</td>\n",
       "      <td>\\n\\nWe love Turkey very much. Isn't this natio...</td>\n",
       "      <td>2023-05-28</td>\n",
       "      <td>Recep Tayyip Erdoğan won the election between ...</td>\n",
       "      <td>after</td>\n",
       "    </tr>\n",
       "    <tr>\n",
       "      <th>2</th>\n",
       "      <td>Strong Industry, Strong Türkiye Speech at the ...</td>\n",
       "      <td>2023-05-25</td>\n",
       "      <td>\\n\\nDear Industrialists,\\nDear Brothers and Si...</td>\n",
       "      <td>2023-05-28</td>\n",
       "      <td>Recep Tayyip Erdoğan won the election between ...</td>\n",
       "      <td>before</td>\n",
       "    </tr>\n",
       "    <tr>\n",
       "      <th>3</th>\n",
       "      <td>Their Speech at the Keçiören NGO Representativ...</td>\n",
       "      <td>2023-05-24</td>\n",
       "      <td>\\n\\nDear Ankara residents,\\nDear Beautiful Peo...</td>\n",
       "      <td>2023-05-28</td>\n",
       "      <td>Recep Tayyip Erdoğan won the election between ...</td>\n",
       "      <td>before</td>\n",
       "    </tr>\n",
       "    <tr>\n",
       "      <th>4</th>\n",
       "      <td>Their Speech at the Great Rumelia Meeting</td>\n",
       "      <td>2023-05-22</td>\n",
       "      <td>\\n\\nOur Dear Youth,\\nDear Ladies and Sisters,\\...</td>\n",
       "      <td>2023-05-28</td>\n",
       "      <td>Recep Tayyip Erdoğan won the election between ...</td>\n",
       "      <td>before</td>\n",
       "    </tr>\n",
       "  </tbody>\n",
       "</table>\n",
       "</div>"
      ],
      "text/plain": [
       "                                    Translated_title        Date  \\\n",
       "0          Their Speech at the Inauguration Ceremony  2023-06-03   \n",
       "1  Their Speech at the Social Complex After the E...  2023-05-28   \n",
       "2  Strong Industry, Strong Türkiye Speech at the ...  2023-05-25   \n",
       "3  Their Speech at the Keçiören NGO Representativ...  2023-05-24   \n",
       "4          Their Speech at the Great Rumelia Meeting  2023-05-22   \n",
       "\n",
       "                                     Translated_text  Event_date  \\\n",
       "0  \\n\\nDear Nation, Dear Heads of State and Gover...  2023-05-28   \n",
       "1  \\n\\nWe love Turkey very much. Isn't this natio...  2023-05-28   \n",
       "2  \\n\\nDear Industrialists,\\nDear Brothers and Si...  2023-05-28   \n",
       "3  \\n\\nDear Ankara residents,\\nDear Beautiful Peo...  2023-05-28   \n",
       "4  \\n\\nOur Dear Youth,\\nDear Ladies and Sisters,\\...  2023-05-28   \n",
       "\n",
       "                                              Detail    When  \n",
       "0  Recep Tayyip Erdoğan won the election between ...   after  \n",
       "1  Recep Tayyip Erdoğan won the election between ...   after  \n",
       "2  Recep Tayyip Erdoğan won the election between ...  before  \n",
       "3  Recep Tayyip Erdoğan won the election between ...  before  \n",
       "4  Recep Tayyip Erdoğan won the election between ...  before  "
      ]
     },
     "execution_count": 4,
     "metadata": {},
     "output_type": "execute_result"
    }
   ],
   "source": [
    "speeches_df.head()"
   ]
  },
  {
   "cell_type": "code",
   "execution_count": 5,
   "metadata": {},
   "outputs": [
    {
     "data": {
      "text/plain": [
       "Translated_title    0\n",
       "Date                0\n",
       "Translated_text     0\n",
       "Event_date          0\n",
       "Detail              0\n",
       "When                0\n",
       "dtype: int64"
      ]
     },
     "execution_count": 5,
     "metadata": {},
     "output_type": "execute_result"
    }
   ],
   "source": [
    "# Checking for NAs, there is none\n",
    "speeches_df.isna().sum()"
   ]
  },
  {
   "cell_type": "code",
   "execution_count": 6,
   "metadata": {},
   "outputs": [
    {
     "data": {
      "text/html": [
       "<div>\n",
       "<style scoped>\n",
       "    .dataframe tbody tr th:only-of-type {\n",
       "        vertical-align: middle;\n",
       "    }\n",
       "\n",
       "    .dataframe tbody tr th {\n",
       "        vertical-align: top;\n",
       "    }\n",
       "\n",
       "    .dataframe thead th {\n",
       "        text-align: right;\n",
       "    }\n",
       "</style>\n",
       "<table border=\"1\" class=\"dataframe\">\n",
       "  <thead>\n",
       "    <tr style=\"text-align: right;\">\n",
       "      <th></th>\n",
       "      <th>Translated_title</th>\n",
       "      <th>Date</th>\n",
       "      <th>Translated_text</th>\n",
       "      <th>Event_date</th>\n",
       "      <th>Detail</th>\n",
       "      <th>When</th>\n",
       "    </tr>\n",
       "  </thead>\n",
       "  <tbody>\n",
       "    <tr>\n",
       "      <th>0</th>\n",
       "      <td>Their Speech at the Inauguration Ceremony</td>\n",
       "      <td>2023-06-03</td>\n",
       "      <td>dear nation dear head state government dear pa...</td>\n",
       "      <td>2023-05-28</td>\n",
       "      <td>Recep Tayyip Erdoğan won the election between ...</td>\n",
       "      <td>after</td>\n",
       "    </tr>\n",
       "    <tr>\n",
       "      <th>1</th>\n",
       "      <td>Their Speech at the Social Complex After the E...</td>\n",
       "      <td>2023-05-28</td>\n",
       "      <td>love turkey much isnt nation loved love qandil...</td>\n",
       "      <td>2023-05-28</td>\n",
       "      <td>Recep Tayyip Erdoğan won the election between ...</td>\n",
       "      <td>after</td>\n",
       "    </tr>\n",
       "    <tr>\n",
       "      <th>2</th>\n",
       "      <td>Strong Industry, Strong Türkiye Speech at the ...</td>\n",
       "      <td>2023-05-25</td>\n",
       "      <td>dear industrialist dear brother sister greet h...</td>\n",
       "      <td>2023-05-28</td>\n",
       "      <td>Recep Tayyip Erdoğan won the election between ...</td>\n",
       "      <td>before</td>\n",
       "    </tr>\n",
       "    <tr>\n",
       "      <th>3</th>\n",
       "      <td>Their Speech at the Keçiören NGO Representativ...</td>\n",
       "      <td>2023-05-24</td>\n",
       "      <td>dear ankara resident dear beautiful people kei...</td>\n",
       "      <td>2023-05-28</td>\n",
       "      <td>Recep Tayyip Erdoğan won the election between ...</td>\n",
       "      <td>before</td>\n",
       "    </tr>\n",
       "    <tr>\n",
       "      <th>4</th>\n",
       "      <td>Their Speech at the Great Rumelia Meeting</td>\n",
       "      <td>2023-05-22</td>\n",
       "      <td>dear youth dear lady sister dear citizen greet...</td>\n",
       "      <td>2023-05-28</td>\n",
       "      <td>Recep Tayyip Erdoğan won the election between ...</td>\n",
       "      <td>before</td>\n",
       "    </tr>\n",
       "  </tbody>\n",
       "</table>\n",
       "</div>"
      ],
      "text/plain": [
       "                                    Translated_title        Date  \\\n",
       "0          Their Speech at the Inauguration Ceremony  2023-06-03   \n",
       "1  Their Speech at the Social Complex After the E...  2023-05-28   \n",
       "2  Strong Industry, Strong Türkiye Speech at the ...  2023-05-25   \n",
       "3  Their Speech at the Keçiören NGO Representativ...  2023-05-24   \n",
       "4          Their Speech at the Great Rumelia Meeting  2023-05-22   \n",
       "\n",
       "                                     Translated_text  Event_date  \\\n",
       "0  dear nation dear head state government dear pa...  2023-05-28   \n",
       "1  love turkey much isnt nation loved love qandil...  2023-05-28   \n",
       "2  dear industrialist dear brother sister greet h...  2023-05-28   \n",
       "3  dear ankara resident dear beautiful people kei...  2023-05-28   \n",
       "4  dear youth dear lady sister dear citizen greet...  2023-05-28   \n",
       "\n",
       "                                              Detail    When  \n",
       "0  Recep Tayyip Erdoğan won the election between ...   after  \n",
       "1  Recep Tayyip Erdoğan won the election between ...   after  \n",
       "2  Recep Tayyip Erdoğan won the election between ...  before  \n",
       "3  Recep Tayyip Erdoğan won the election between ...  before  \n",
       "4  Recep Tayyip Erdoğan won the election between ...  before  "
      ]
     },
     "execution_count": 6,
     "metadata": {},
     "output_type": "execute_result"
    }
   ],
   "source": [
    "# Applying the preprocessing function to a copy of the data frame\n",
    "text_df_clean = speeches_df.copy()\n",
    "\n",
    "text_df_clean[\"Translated_text\"] = text_df_clean.Translated_text.map(preprocess_text)\n",
    "\n",
    "text_df_clean.head()"
   ]
  },
  {
   "cell_type": "markdown",
   "metadata": {},
   "source": [
    "## Text clustering"
   ]
  },
  {
   "cell_type": "code",
   "execution_count": 10,
   "metadata": {},
   "outputs": [],
   "source": [
    "# Creating the tf-idf vectors\n",
    "# It may be more interesting to include bigrams\n",
    "# I remove the terms that appear in less than 5% of all documents\n",
    "tfidf_text_vectorizer = TfidfVectorizer(ngram_range=(1,2), min_df=0.05)\n",
    "tfidf_text_vectors = tfidf_text_vectorizer.fit_transform(text_df_clean.Translated_text)"
   ]
  },
  {
   "cell_type": "code",
   "execution_count": 22,
   "metadata": {},
   "outputs": [
    {
     "data": {
      "image/png": "[encoded data removed]",
      "text/plain": [
       "<Figure size 640x480 with 1 Axes>"
      ]
     },
     "metadata": {},
     "output_type": "display_data"
    }
   ],
   "source": [
    "# Based on the elbow method, seems like 7 is an appropriate number of clusters\n",
    "get_clusters_number(tfidf_text_vectors, 20)"
   ]
  },
  {
   "cell_type": "code",
   "execution_count": 11,
   "metadata": {},
   "outputs": [],
   "source": [
    "# Applying K-means\n",
    "text_k = 7\n",
    "kfit = KMeans(n_clusters=text_k, n_init='auto', random_state=42)\n",
    "clusters = kfit.fit_predict(tfidf_text_vectors)"
   ]
  },
  {
   "cell_type": "code",
   "execution_count": 24,
   "metadata": {},
   "outputs": [
    {
     "data": {
      "image/png": "[encoded data removed]",
      "text/plain": [
       "<Figure size 640x480 with 1 Axes>"
      ]
     },
     "metadata": {},
     "output_type": "display_data"
    }
   ],
   "source": [
    "# Plotting the clusters\n",
    "# It is worth noting that the plot may not be ideal, since the explained variance is not high\n",
    "plot_clusters(tfidf_text_vectors, clusters, text_k)"
   ]
  },
  {
   "cell_type": "code",
   "execution_count": 25,
   "metadata": {},
   "outputs": [
    {
     "name": "stdout",
     "output_type": "stream",
     "text": [
      "\n",
      "Cluster 0\n",
      "istanbul, brother, conquest, binali, say, know, chp, nation, candidate, people, one, yldrm, mayor, metropolitan, binali yldrm\n",
      "\n",
      "Cluster 1\n",
      "nation, coup, july, coup attempt, attempt, country, one, turkey, state, armed, terrorist, force, organization, democracy, tank\n",
      "\n",
      "Cluster 2\n",
      "nation, country, konya, people, teknofest, brother, turkey, one, say, mr kemal, chp, kemal, young, space, year\n",
      "\n",
      "Cluster 3\n",
      "system, country, presidential system, nation, say, yes, presidential, executive, one, military service, governed, management, new system, constitutional amendment, amendment\n",
      "\n",
      "Cluster 4\n",
      "nation, brother, country, say, people, turkey, know, headman, mosque, one, siva, said, come, van, rize\n",
      "\n",
      "Cluster 5\n",
      "earthquake, aid, disaster, thousand, rescue, search rescue, earthquake zone, search, zone, province, region, team, destruction, citizen, country\n",
      "\n",
      "Cluster 6\n",
      "nation, country, turkey, election, party, one, people, like, would, brother, year, ak party, every, ak, dear\n"
     ]
    }
   ],
   "source": [
    "# Printing top 15 keywords\n",
    "get_top_keywords(tfidf_text_vectors, clusters, tfidf_text_vectorizer.get_feature_names_out(), 15)"
   ]
  },
  {
   "cell_type": "markdown",
   "metadata": {},
   "source": [
    "## Topic Modeling"
   ]
  },
  {
   "cell_type": "code",
   "execution_count": 13,
   "metadata": {},
   "outputs": [],
   "source": [
    "# Creating new dataframe with preprocessed text for lda\n",
    "lda_df = text_df_clean.copy()\n",
    "lda_df[\"Translated_text\"] = lda_df.Translated_text.map(preprocess_text)\n",
    "lda_df = lda_df.loc[lda_df.Translated_text != \"\"]"
   ]
  },
  {
   "cell_type": "markdown",
   "metadata": {},
   "source": [
    "### With coherence score"
   ]
  },
  {
   "cell_type": "markdown",
   "metadata": {},
   "source": [
    "Coherence score is a measure used for determining the interpretability of LDA topics to humans. Naturally, it can be used for optimizing the number of topics."
   ]
  },
  {
   "cell_type": "code",
   "execution_count": 14,
   "metadata": {},
   "outputs": [],
   "source": [
    "from gensim.models import LdaModel\n",
    "from gensim.corpora import Dictionary\n",
    "\n",
    "# Positive corpora\n",
    "speeches = [x.split() for x in lda_df[\"Translated_text\"]]\n",
    "dictionary = Dictionary(speeches)\n",
    "corpus = [dictionary.doc2bow(speech) for speech in speeches]"
   ]
  },
  {
   "cell_type": "code",
   "execution_count": 45,
   "metadata": {},
   "outputs": [],
   "source": [
    "import tqdm\n",
    "from gensim.models import CoherenceModel\n",
    "import numpy as np\n",
    "import warnings\n",
    "\n",
    "# Function for computing the coherence score\n",
    "def compute_coherence_values(corpus, sent_tweets, sentim_id2word, k, a, b):\n",
    "    lda_model = LdaModel(corpus=corpus,\n",
    "                         id2word=sentim_id2word,\n",
    "                         num_topics=k, \n",
    "                         random_state=42,\n",
    "                         chunksize=len(corpus),\n",
    "                         passes=10,\n",
    "                         alpha=a,\n",
    "                         eta=b)\n",
    "    \n",
    "    coherence_model_lda = CoherenceModel(model=lda_model, texts=sent_tweets, dictionary=sentim_id2word, coherence='c_v')\n",
    "    \n",
    "    return coherence_model_lda.get_coherence()\n",
    "\n",
    "# Function for computing the coherence score for different hyperparameter combinations\n",
    "def topic_num_search(sent_corpus, sent_tweets, sentim_dict):\n",
    "    grid = {}\n",
    "    grid['Validation_Set'] = {} \n",
    "\n",
    "    min_topics = 2\n",
    "    max_topics = 10\n",
    "    step_size = 2\n",
    "    topics_range = range(min_topics, max_topics, step_size)\n",
    "\n",
    "    warnings.filterwarnings(\"ignore\", category=DeprecationWarning) \n",
    "\n",
    "    num_of_tweets = len(sent_corpus)\n",
    "    corpus_sets = [sent_corpus]\n",
    "    corpus_title = ['100% Corpus']\n",
    "\n",
    "    alpha=['symmetric', 'asymmetric']\n",
    "    beta=['symmetric']\n",
    "\n",
    "    model_results = {'Validation_Set': [],\n",
    "                    'Topics': [],\n",
    "                    'Alpha': [],\n",
    "                    'Beta': [],\n",
    "                    'Coherence': []\n",
    "                    }\n",
    "\n",
    "    if 1 == 1:\n",
    "        pbar = tqdm.tqdm(total=len(corpus_sets)*len(topics_range)*len(alpha)*len(beta))\n",
    "        \n",
    "        for i in range(len(corpus_sets)):\n",
    "            for k in topics_range:\n",
    "                for a in alpha:\n",
    "                    for b in beta:\n",
    "                        print(i, k, a, b)\n",
    "                        \n",
    "                        cv = compute_coherence_values(corpus=corpus_sets[i], sent_tweets=sent_tweets, sentim_id2word=sentim_dict,\n",
    "                                                      k=k, a=a, b=b)\n",
    "                        model_results['Validation_Set'].append(corpus_title[i])\n",
    "                        model_results['Topics'].append(k)\n",
    "                        model_results['Alpha'].append(a)\n",
    "                        model_results['Beta'].append(b)\n",
    "                        model_results['Coherence'].append(cv)\n",
    "                        print({k: v[-1] for k, v in model_results.items()})\n",
    "\n",
    "                        pbar.update(1)\n",
    "        pbar.close()\n",
    "        model_results=pd.DataFrame(model_results)\n",
    "    \n",
    "    return model_results"
   ]
  },
  {
   "cell_type": "code",
   "execution_count": 46,
   "metadata": {},
   "outputs": [
    {
     "name": "stderr",
     "output_type": "stream",
     "text": [
      "  0%|          | 0/8 [00:00<?, ?it/s]"
     ]
    },
    {
     "name": "stdout",
     "output_type": "stream",
     "text": [
      "0 2 symmetric symmetric\n"
     ]
    },
    {
     "name": "stderr",
     "output_type": "stream",
     "text": [
      " 12%|█▎        | 1/8 [00:04<00:31,  4.51s/it]"
     ]
    },
    {
     "name": "stdout",
     "output_type": "stream",
     "text": [
      "{'Validation_Set': '100% Corpus', 'Topics': 2, 'Alpha': 'symmetric', 'Beta': 'symmetric', 'Coherence': 0.3032912817136787}\n",
      "0 2 asymmetric symmetric\n"
     ]
    },
    {
     "name": "stderr",
     "output_type": "stream",
     "text": [
      " 25%|██▌       | 2/8 [00:09<00:28,  4.73s/it]"
     ]
    },
    {
     "name": "stdout",
     "output_type": "stream",
     "text": [
      "{'Validation_Set': '100% Corpus', 'Topics': 2, 'Alpha': 'asymmetric', 'Beta': 'symmetric', 'Coherence': 0.3032912817136787}\n",
      "0 4 symmetric symmetric\n"
     ]
    },
    {
     "name": "stderr",
     "output_type": "stream",
     "text": [
      " 38%|███▊      | 3/8 [00:13<00:22,  4.56s/it]"
     ]
    },
    {
     "name": "stdout",
     "output_type": "stream",
     "text": [
      "{'Validation_Set': '100% Corpus', 'Topics': 4, 'Alpha': 'symmetric', 'Beta': 'symmetric', 'Coherence': 0.33940776565192393}\n",
      "0 4 asymmetric symmetric\n"
     ]
    },
    {
     "name": "stderr",
     "output_type": "stream",
     "text": [
      " 50%|█████     | 4/8 [00:18<00:18,  4.61s/it]"
     ]
    },
    {
     "name": "stdout",
     "output_type": "stream",
     "text": [
      "{'Validation_Set': '100% Corpus', 'Topics': 4, 'Alpha': 'asymmetric', 'Beta': 'symmetric', 'Coherence': 0.33120057881304676}\n",
      "0 6 symmetric symmetric\n"
     ]
    },
    {
     "name": "stderr",
     "output_type": "stream",
     "text": [
      " 62%|██████▎   | 5/8 [00:24<00:15,  5.08s/it]"
     ]
    },
    {
     "name": "stdout",
     "output_type": "stream",
     "text": [
      "{'Validation_Set': '100% Corpus', 'Topics': 6, 'Alpha': 'symmetric', 'Beta': 'symmetric', 'Coherence': 0.32526562807468296}\n",
      "0 6 asymmetric symmetric\n"
     ]
    },
    {
     "name": "stderr",
     "output_type": "stream",
     "text": [
      " 75%|███████▌  | 6/8 [00:30<00:10,  5.30s/it]"
     ]
    },
    {
     "name": "stdout",
     "output_type": "stream",
     "text": [
      "{'Validation_Set': '100% Corpus', 'Topics': 6, 'Alpha': 'asymmetric', 'Beta': 'symmetric', 'Coherence': 0.3301259608103639}\n",
      "0 8 symmetric symmetric\n"
     ]
    },
    {
     "name": "stderr",
     "output_type": "stream",
     "text": [
      " 88%|████████▊ | 7/8 [00:36<00:05,  5.52s/it]"
     ]
    },
    {
     "name": "stdout",
     "output_type": "stream",
     "text": [
      "{'Validation_Set': '100% Corpus', 'Topics': 8, 'Alpha': 'symmetric', 'Beta': 'symmetric', 'Coherence': 0.32265082390344646}\n",
      "0 8 asymmetric symmetric\n"
     ]
    },
    {
     "name": "stderr",
     "output_type": "stream",
     "text": [
      "100%|██████████| 8/8 [00:42<00:00,  5.27s/it]"
     ]
    },
    {
     "name": "stdout",
     "output_type": "stream",
     "text": [
      "{'Validation_Set': '100% Corpus', 'Topics': 8, 'Alpha': 'asymmetric', 'Beta': 'symmetric', 'Coherence': 0.3272374722052589}\n"
     ]
    },
    {
     "name": "stderr",
     "output_type": "stream",
     "text": [
      "\n"
     ]
    }
   ],
   "source": [
    "model_results = topic_num_search(corpus, speeches, dictionary)"
   ]
  },
  {
   "cell_type": "code",
   "execution_count": 47,
   "metadata": {},
   "outputs": [
    {
     "data": {
      "text/html": [
       "<div>\n",
       "<style scoped>\n",
       "    .dataframe tbody tr th:only-of-type {\n",
       "        vertical-align: middle;\n",
       "    }\n",
       "\n",
       "    .dataframe tbody tr th {\n",
       "        vertical-align: top;\n",
       "    }\n",
       "\n",
       "    .dataframe thead th {\n",
       "        text-align: right;\n",
       "    }\n",
       "</style>\n",
       "<table border=\"1\" class=\"dataframe\">\n",
       "  <thead>\n",
       "    <tr style=\"text-align: right;\">\n",
       "      <th></th>\n",
       "      <th>Validation_Set</th>\n",
       "      <th>Topics</th>\n",
       "      <th>Alpha</th>\n",
       "      <th>Beta</th>\n",
       "      <th>Coherence</th>\n",
       "    </tr>\n",
       "  </thead>\n",
       "  <tbody>\n",
       "    <tr>\n",
       "      <th>2</th>\n",
       "      <td>100% Corpus</td>\n",
       "      <td>4</td>\n",
       "      <td>symmetric</td>\n",
       "      <td>symmetric</td>\n",
       "      <td>0.339408</td>\n",
       "    </tr>\n",
       "    <tr>\n",
       "      <th>3</th>\n",
       "      <td>100% Corpus</td>\n",
       "      <td>4</td>\n",
       "      <td>asymmetric</td>\n",
       "      <td>symmetric</td>\n",
       "      <td>0.331201</td>\n",
       "    </tr>\n",
       "    <tr>\n",
       "      <th>5</th>\n",
       "      <td>100% Corpus</td>\n",
       "      <td>6</td>\n",
       "      <td>asymmetric</td>\n",
       "      <td>symmetric</td>\n",
       "      <td>0.330126</td>\n",
       "    </tr>\n",
       "    <tr>\n",
       "      <th>7</th>\n",
       "      <td>100% Corpus</td>\n",
       "      <td>8</td>\n",
       "      <td>asymmetric</td>\n",
       "      <td>symmetric</td>\n",
       "      <td>0.327237</td>\n",
       "    </tr>\n",
       "    <tr>\n",
       "      <th>4</th>\n",
       "      <td>100% Corpus</td>\n",
       "      <td>6</td>\n",
       "      <td>symmetric</td>\n",
       "      <td>symmetric</td>\n",
       "      <td>0.325266</td>\n",
       "    </tr>\n",
       "  </tbody>\n",
       "</table>\n",
       "</div>"
      ],
      "text/plain": [
       "  Validation_Set  Topics       Alpha       Beta  Coherence\n",
       "2    100% Corpus       4   symmetric  symmetric   0.339408\n",
       "3    100% Corpus       4  asymmetric  symmetric   0.331201\n",
       "5    100% Corpus       6  asymmetric  symmetric   0.330126\n",
       "7    100% Corpus       8  asymmetric  symmetric   0.327237\n",
       "4    100% Corpus       6   symmetric  symmetric   0.325266"
      ]
     },
     "execution_count": 47,
     "metadata": {},
     "output_type": "execute_result"
    }
   ],
   "source": [
    "model_results.sort_values('Coherence', ascending = False).head()"
   ]
  },
  {
   "cell_type": "code",
   "execution_count": 50,
   "metadata": {},
   "outputs": [],
   "source": [
    "# Creating LDA models with the hyperparameters chosen according to the highest coherence score\n",
    "passes=10\n",
    "\n",
    "# LDA model for positive tweets\n",
    "lda_model = LdaModel(\n",
    "    corpus=corpus,\n",
    "    id2word=dictionary,\n",
    "    chunksize=len(corpus),\n",
    "    alpha='symmetric',\n",
    "    eta='symmetric',\n",
    "    random_state=42,\n",
    "    num_topics=4,\n",
    "    passes=passes,\n",
    "    per_word_topics=True\n",
    ")"
   ]
  },
  {
   "cell_type": "code",
   "execution_count": 51,
   "metadata": {},
   "outputs": [],
   "source": [
    "# Function for displaying top n words from each topic\n",
    "def display_topics(lda_model, num_topics, no_top_words):\n",
    "    topic_dict = {}\n",
    "    for idx in range(num_topics):\n",
    "        topic_dict[f\"Topic {idx} words\"]= [x[0] for x in lda_model.show_topic(idx, no_top_words)]\n",
    "\n",
    "        topic_dict[f\"Topic {idx} weights\"]= [round(x[1], 4) for x in lda_model.show_topic(idx, no_top_words)]\n",
    "    return pd.DataFrame(topic_dict)"
   ]
  },
  {
   "cell_type": "code",
   "execution_count": 52,
   "metadata": {},
   "outputs": [
    {
     "data": {
      "text/html": [
       "<div>\n",
       "<style scoped>\n",
       "    .dataframe tbody tr th:only-of-type {\n",
       "        vertical-align: middle;\n",
       "    }\n",
       "\n",
       "    .dataframe tbody tr th {\n",
       "        vertical-align: top;\n",
       "    }\n",
       "\n",
       "    .dataframe thead th {\n",
       "        text-align: right;\n",
       "    }\n",
       "</style>\n",
       "<table border=\"1\" class=\"dataframe\">\n",
       "  <thead>\n",
       "    <tr style=\"text-align: right;\">\n",
       "      <th></th>\n",
       "      <th>Topic 0 words</th>\n",
       "      <th>Topic 0 weights</th>\n",
       "      <th>Topic 1 words</th>\n",
       "      <th>Topic 1 weights</th>\n",
       "      <th>Topic 2 words</th>\n",
       "      <th>Topic 2 weights</th>\n",
       "      <th>Topic 3 words</th>\n",
       "      <th>Topic 3 weights</th>\n",
       "    </tr>\n",
       "  </thead>\n",
       "  <tbody>\n",
       "    <tr>\n",
       "      <th>0</th>\n",
       "      <td>nation</td>\n",
       "      <td>0.0143</td>\n",
       "      <td>earthquake</td>\n",
       "      <td>0.0173</td>\n",
       "      <td>nation</td>\n",
       "      <td>0.0110</td>\n",
       "      <td>nation</td>\n",
       "      <td>0.0149</td>\n",
       "    </tr>\n",
       "    <tr>\n",
       "      <th>1</th>\n",
       "      <td>country</td>\n",
       "      <td>0.0115</td>\n",
       "      <td>thousand</td>\n",
       "      <td>0.0130</td>\n",
       "      <td>brother</td>\n",
       "      <td>0.0089</td>\n",
       "      <td>country</td>\n",
       "      <td>0.0082</td>\n",
       "    </tr>\n",
       "    <tr>\n",
       "      <th>2</th>\n",
       "      <td>u</td>\n",
       "      <td>0.0095</td>\n",
       "      <td>country</td>\n",
       "      <td>0.0088</td>\n",
       "      <td>istanbul</td>\n",
       "      <td>0.0083</td>\n",
       "      <td>brother</td>\n",
       "      <td>0.0081</td>\n",
       "    </tr>\n",
       "    <tr>\n",
       "      <th>3</th>\n",
       "      <td>people</td>\n",
       "      <td>0.0092</td>\n",
       "      <td>nation</td>\n",
       "      <td>0.0064</td>\n",
       "      <td>country</td>\n",
       "      <td>0.0082</td>\n",
       "      <td>one</td>\n",
       "      <td>0.0079</td>\n",
       "    </tr>\n",
       "    <tr>\n",
       "      <th>4</th>\n",
       "      <td>turkey</td>\n",
       "      <td>0.0091</td>\n",
       "      <td>work</td>\n",
       "      <td>0.0064</td>\n",
       "      <td>say</td>\n",
       "      <td>0.0081</td>\n",
       "      <td>turkey</td>\n",
       "      <td>0.0066</td>\n",
       "    </tr>\n",
       "    <tr>\n",
       "      <th>5</th>\n",
       "      <td>brother</td>\n",
       "      <td>0.0090</td>\n",
       "      <td>citizen</td>\n",
       "      <td>0.0063</td>\n",
       "      <td>know</td>\n",
       "      <td>0.0064</td>\n",
       "      <td>like</td>\n",
       "      <td>0.0063</td>\n",
       "    </tr>\n",
       "    <tr>\n",
       "      <th>6</th>\n",
       "      <td>one</td>\n",
       "      <td>0.0075</td>\n",
       "      <td>disaster</td>\n",
       "      <td>0.0061</td>\n",
       "      <td>people</td>\n",
       "      <td>0.0060</td>\n",
       "      <td>say</td>\n",
       "      <td>0.0061</td>\n",
       "    </tr>\n",
       "    <tr>\n",
       "      <th>7</th>\n",
       "      <td>say</td>\n",
       "      <td>0.0067</td>\n",
       "      <td>region</td>\n",
       "      <td>0.0058</td>\n",
       "      <td>turkey</td>\n",
       "      <td>0.0059</td>\n",
       "      <td>coup</td>\n",
       "      <td>0.0060</td>\n",
       "    </tr>\n",
       "    <tr>\n",
       "      <th>8</th>\n",
       "      <td>party</td>\n",
       "      <td>0.0056</td>\n",
       "      <td>aid</td>\n",
       "      <td>0.0051</td>\n",
       "      <td>one</td>\n",
       "      <td>0.0057</td>\n",
       "      <td>u</td>\n",
       "      <td>0.0058</td>\n",
       "    </tr>\n",
       "    <tr>\n",
       "      <th>9</th>\n",
       "      <td>election</td>\n",
       "      <td>0.0054</td>\n",
       "      <td>province</td>\n",
       "      <td>0.0050</td>\n",
       "      <td>u</td>\n",
       "      <td>0.0053</td>\n",
       "      <td>god</td>\n",
       "      <td>0.0058</td>\n",
       "    </tr>\n",
       "  </tbody>\n",
       "</table>\n",
       "</div>"
      ],
      "text/plain": [
       "  Topic 0 words  Topic 0 weights Topic 1 words  Topic 1 weights Topic 2 words  \\\n",
       "0        nation           0.0143    earthquake           0.0173        nation   \n",
       "1       country           0.0115      thousand           0.0130       brother   \n",
       "2             u           0.0095       country           0.0088      istanbul   \n",
       "3        people           0.0092        nation           0.0064       country   \n",
       "4        turkey           0.0091          work           0.0064           say   \n",
       "5       brother           0.0090       citizen           0.0063          know   \n",
       "6           one           0.0075      disaster           0.0061        people   \n",
       "7           say           0.0067        region           0.0058        turkey   \n",
       "8         party           0.0056           aid           0.0051           one   \n",
       "9      election           0.0054      province           0.0050             u   \n",
       "\n",
       "   Topic 2 weights Topic 3 words  Topic 3 weights  \n",
       "0           0.0110        nation           0.0149  \n",
       "1           0.0089       country           0.0082  \n",
       "2           0.0083       brother           0.0081  \n",
       "3           0.0082           one           0.0079  \n",
       "4           0.0081        turkey           0.0066  \n",
       "5           0.0064          like           0.0063  \n",
       "6           0.0060           say           0.0061  \n",
       "7           0.0059          coup           0.0060  \n",
       "8           0.0057             u           0.0058  \n",
       "9           0.0053           god           0.0058  "
      ]
     },
     "execution_count": 52,
     "metadata": {},
     "output_type": "execute_result"
    }
   ],
   "source": [
    "display_topics(lda_model, 4, 10)"
   ]
  },
  {
   "cell_type": "markdown",
   "metadata": {},
   "source": [
    "## Sentiment Analysis"
   ]
  },
  {
   "cell_type": "code",
   "execution_count": 7,
   "metadata": {},
   "outputs": [],
   "source": [
    "par_list = [par for speech in speeches_df[\"Translated_text\"].map(lambda x: x.split(\"\\n\")) for par in speech if par != \"\"]"
   ]
  },
  {
   "cell_type": "code",
   "execution_count": 8,
   "metadata": {},
   "outputs": [],
   "source": [
    "par_df = pd.DataFrame(par_list, columns=[\"Paragraph\"])"
   ]
  },
  {
   "cell_type": "code",
   "execution_count": 9,
   "metadata": {},
   "outputs": [],
   "source": [
    "par_df[\"Sentiment\"] = par_df.Paragraph.map(analyser.polarity_scores)\n",
    "par_df[\"Sentiment\"] = par_df[\"Sentiment\"].map(lambda x: x[\"compound\"])"
   ]
  },
  {
   "cell_type": "code",
   "execution_count": 10,
   "metadata": {},
   "outputs": [],
   "source": [
    "# Applying typical threshold values from the literature: https://github.com/cjhutto/vaderSentiment\n",
    "par_df[\"Sentiment\"] = par_df[\"Sentiment\"].map(lambda x: \"positive\" if x>=0.05 else (\"neutral\" if x>-0.05 else \"negative\"))"
   ]
  },
  {
   "cell_type": "code",
   "execution_count": 11,
   "metadata": {},
   "outputs": [
    {
     "data": {
      "text/html": [
       "<div>\n",
       "<style scoped>\n",
       "    .dataframe tbody tr th:only-of-type {\n",
       "        vertical-align: middle;\n",
       "    }\n",
       "\n",
       "    .dataframe tbody tr th {\n",
       "        vertical-align: top;\n",
       "    }\n",
       "\n",
       "    .dataframe thead th {\n",
       "        text-align: right;\n",
       "    }\n",
       "</style>\n",
       "<table border=\"1\" class=\"dataframe\">\n",
       "  <thead>\n",
       "    <tr style=\"text-align: right;\">\n",
       "      <th></th>\n",
       "      <th>Paragraph</th>\n",
       "    </tr>\n",
       "    <tr>\n",
       "      <th>Sentiment</th>\n",
       "      <th></th>\n",
       "    </tr>\n",
       "  </thead>\n",
       "  <tbody>\n",
       "    <tr>\n",
       "      <th>negative</th>\n",
       "      <td>845</td>\n",
       "    </tr>\n",
       "    <tr>\n",
       "      <th>neutral</th>\n",
       "      <td>582</td>\n",
       "    </tr>\n",
       "    <tr>\n",
       "      <th>positive</th>\n",
       "      <td>2247</td>\n",
       "    </tr>\n",
       "  </tbody>\n",
       "</table>\n",
       "</div>"
      ],
      "text/plain": [
       "           Paragraph\n",
       "Sentiment           \n",
       "negative         845\n",
       "neutral          582\n",
       "positive        2247"
      ]
     },
     "execution_count": 11,
     "metadata": {},
     "output_type": "execute_result"
    }
   ],
   "source": [
    "par_df.groupby(\"Sentiment\").count()"
   ]
  },
  {
   "cell_type": "code",
   "execution_count": 15,
   "metadata": {},
   "outputs": [],
   "source": [
    "par_df.Paragraph = par_df.Paragraph.map(lambda x: preprocess_text(x))"
   ]
  },
  {
   "cell_type": "code",
   "execution_count": 17,
   "metadata": {},
   "outputs": [
    {
     "data": {
      "text/html": [
       "<div>\n",
       "<style scoped>\n",
       "    .dataframe tbody tr th:only-of-type {\n",
       "        vertical-align: middle;\n",
       "    }\n",
       "\n",
       "    .dataframe tbody tr th {\n",
       "        vertical-align: top;\n",
       "    }\n",
       "\n",
       "    .dataframe thead th {\n",
       "        text-align: right;\n",
       "    }\n",
       "</style>\n",
       "<table border=\"1\" class=\"dataframe\">\n",
       "  <thead>\n",
       "    <tr style=\"text-align: right;\">\n",
       "      <th></th>\n",
       "      <th>Paragraph</th>\n",
       "      <th>Sentiment</th>\n",
       "    </tr>\n",
       "  </thead>\n",
       "  <tbody>\n",
       "    <tr>\n",
       "      <th>0</th>\n",
       "      <td>dear nation dear head state government</td>\n",
       "      <td>positive</td>\n",
       "    </tr>\n",
       "    <tr>\n",
       "      <th>1</th>\n",
       "      <td>dear parliament speaker</td>\n",
       "      <td>positive</td>\n",
       "    </tr>\n",
       "    <tr>\n",
       "      <th>2</th>\n",
       "      <td>vice president</td>\n",
       "      <td>neutral</td>\n",
       "    </tr>\n",
       "    <tr>\n",
       "      <th>3</th>\n",
       "      <td>dear country representative dear friend home a...</td>\n",
       "      <td>positive</td>\n",
       "    </tr>\n",
       "    <tr>\n",
       "      <th>4</th>\n",
       "      <td>lady gentleman</td>\n",
       "      <td>neutral</td>\n",
       "    </tr>\n",
       "  </tbody>\n",
       "</table>\n",
       "</div>"
      ],
      "text/plain": [
       "                                           Paragraph Sentiment\n",
       "0             dear nation dear head state government  positive\n",
       "1                            dear parliament speaker  positive\n",
       "2                                     vice president   neutral\n",
       "3  dear country representative dear friend home a...  positive\n",
       "4                                     lady gentleman   neutral"
      ]
     },
     "execution_count": 17,
     "metadata": {},
     "output_type": "execute_result"
    }
   ],
   "source": [
    "par_df.head()"
   ]
  },
  {
   "cell_type": "code",
   "execution_count": 16,
   "metadata": {},
   "outputs": [],
   "source": [
    "pos_df = par_df.loc[par_df.Sentiment == \"positive\"].reset_index(drop=True)\n",
    "neg_df = par_df.loc[par_df.Sentiment == \"negative\"].reset_index(drop=True)"
   ]
  }
 ],
 "metadata": {
  "kernelspec": {
   "display_name": "tmsmm_env",
   "language": "python",
   "name": "python3"
  },
  "language_info": {
   "codemirror_mode": {
    "name": "ipython",
    "version": 3
   },
   "file_extension": ".py",
   "mimetype": "text/x-python",
   "name": "python",
   "nbconvert_exporter": "python",
   "pygments_lexer": "ipython3",
   "version": "3.8.18"
  }
 },
 "nbformat": 4,
 "nbformat_minor": 2
}
