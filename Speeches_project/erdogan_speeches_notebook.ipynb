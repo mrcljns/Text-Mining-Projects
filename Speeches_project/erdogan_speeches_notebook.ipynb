{
 "cells": [
  {
   "cell_type": "markdown",
   "metadata": {},
   "source": [
    "# Speeches project"
   ]
  },
  {
   "cell_type": "code",
   "execution_count": 1,
   "metadata": {},
   "outputs": [],
   "source": [
    "import re\n",
    "import numpy as np\n",
    "import pandas as pd\n",
    "import tqdm\n",
    "import warnings\n",
    "import matplotlib.pyplot as plt\n",
    "import seaborn as sn\n",
    "sn.set_theme(style='darkgrid')\n",
    "\n",
    "# Text mining modules from Sklearn\n",
    "from sklearn.cluster import KMeans\n",
    "from sklearn.feature_extraction.text import TfidfVectorizer\n",
    "from sklearn.decomposition import PCA\n",
    "from sklearn import metrics\n",
    "\n",
    "# Modules from nltk\n",
    "from nltk.tokenize import word_tokenize, sent_tokenize\n",
    "from nltk.stem import WordNetLemmatizer\n",
    "from nltk.corpus import stopwords\n",
    "from nltk.sentiment.vader import SentimentIntensityAnalyzer\n",
    "\n",
    "# Modules from gensim\n",
    "from gensim.models import LdaModel\n",
    "from gensim.corpora import Dictionary\n",
    "from gensim.models import CoherenceModel\n",
    "from gensim.models import Word2Vec\n",
    "from gensim.models.phrases import Phrases, Phraser\n",
    "\n",
    "analyser = SentimentIntensityAnalyzer()\n",
    "\n",
    "lemmatizer = WordNetLemmatizer()"
   ]
  },
  {
   "cell_type": "code",
   "execution_count": 2,
   "metadata": {},
   "outputs": [],
   "source": [
    "# Function for cleaning the text\n",
    "def preprocess_text(text):\n",
    "\n",
    "    # Removing special characters, punctuation, whitespaces and numbers\n",
    "    text_clean = re.sub(\"[^a-zA-Z0-9 \\n\\.]\", \"\", text)\n",
    "    text_clean = re.sub(\" +\", \" \", text_clean)\n",
    "    text_clean = re.sub(r\"[^\\w\\s]\",\"\", text_clean)\n",
    "    text_clean = re.sub(\"\\d\", \"\", text_clean)\n",
    "\n",
    "    # Changing the text into lowercase\n",
    "    text_clean = text_clean.lower()\n",
    "\n",
    "    # Applying tokenization to the text\n",
    "    word_tokens = word_tokenize(text_clean)\n",
    "\n",
    "    # Removing english stopwords\n",
    "    stop_words = set(stopwords.words(\"english\")) \n",
    "    word_tokens = [w for w in word_tokens if w not in stop_words]\n",
    "\n",
    "    # Applying lemmatization to the tokens\n",
    "    word_tokens = [lemmatizer.lemmatize(w) for w in word_tokens]\n",
    "\n",
    "    # Get rid of very short tokens\n",
    "    word_tokens = [w for w in word_tokens if len(w) > 1]\n",
    "\n",
    "    text_clean = \" \".join(word_tokens)\n",
    "        \n",
    "    return text_clean\n",
    "\n",
    "\n",
    "# Function for cleaning the sentences in word2vec\n",
    "def preprocess_sent(text):\n",
    "\n",
    "    # Applying tokenization to the text\n",
    "    sent_tokens = sent_tokenize(text)\n",
    "\n",
    "    # Removing special characters, punctuation, whitespaces and numbers\n",
    "    sent_tokens = [re.sub(\"[^a-zA-Z0-9 \\n\\.]\", \"\", sent) for sent in sent_tokens]\n",
    "    sent_tokens = [re.sub(\" +\", \" \", sent) for sent in sent_tokens]\n",
    "    sent_tokens = [re.sub(r\"[^\\w\\s]\",\"\", sent) for sent in sent_tokens]\n",
    "    sent_tokens = [re.sub(\"\\d\", \"\", sent) for sent in sent_tokens]\n",
    "\n",
    "    # Changing the text into lowercase\n",
    "    sent_tokens = [sent.lower() for sent in sent_tokens]\n",
    "\n",
    "    # Removing english stopwords\n",
    "    stop_words = set(stopwords.words(\"english\")) \n",
    "    sent_tokens = [[w for w in word_tokenize(sent) if w not in stop_words] for sent in sent_tokens]\n",
    "\n",
    "    # Applying lemmatization to the tokens\n",
    "    sent_tokens = [[lemmatizer.lemmatize(w) for w in sent] for sent in sent_tokens]\n",
    "\n",
    "    # Get rid of very short tokens\n",
    "    sent_tokens = [[w for w in sent if len(w) > 1] for sent in sent_tokens]\n",
    "        \n",
    "    return sent_tokens\n",
    "\n",
    "\n",
    "# Function to plot SSE and Silhouette Score for a chosen range of k number of clusters\n",
    "def get_clusters_number(data, max_k):\n",
    "\n",
    "    sse = []\n",
    "    sil = []\n",
    "    k_range = range(2, max_k+1)\n",
    "\n",
    "    for k in k_range:\n",
    "        kfit = KMeans(n_clusters=k, n_init='auto', random_state=42)\n",
    "        kmeans_model = kfit.fit(data)\n",
    "        sse.append(kmeans_model.inertia_)\n",
    "        sil.append(metrics.silhouette_score(data, kmeans_model.labels_, metric='euclidean'))\n",
    "\n",
    "    fig, axs = plt.subplots(2, 1)\n",
    "    axs[0].plot(k_range, sse, marker=\"o\")\n",
    "    axs[0].set_title(\"SSE for k number of clusters\")\n",
    "    axs[0].set(xlabel=\"k\", ylabel=\"SSE\", xticks=k_range)\n",
    "    axs[1].plot(k_range, sil, marker=\"o\")\n",
    "    axs[1].set_title(\"Silhouette Score for k number of clusters\")\n",
    "    axs[1].set(xlabel=\"k\", ylabel=\"Silhouette Score\", xticks=k_range)\n",
    "    fig.set_figheight(8)\n",
    "    fig.set_figwidth(10)\n",
    "    fig.tight_layout()\n",
    "    plt.show()\n",
    "\n",
    "\n",
    "# Function to plot the clusters\n",
    "def plot_clusters(tfidf_vectors, clusters, num_k):\n",
    "\n",
    "    # Computing the pca vectors for visualizing the clusters\n",
    "    pca = PCA(n_components=2)\n",
    "    pca_vectors = pca.fit_transform(tfidf_vectors.toarray())\n",
    "\n",
    "    # Plotting the clusters\n",
    "    plt.scatter(pca_vectors[:, 0], pca_vectors[:, 1], c=clusters, cmap='viridis')\n",
    "    plt.title(f\"Clustering results for k={num_k}\")\n",
    "    plt.xlabel(f\"Principal Component 1 ({round(pca.explained_variance_[0]*100, 2)}%)\")\n",
    "    plt.ylabel(f\"Principal Component 2 ({round(pca.explained_variance_[1]*100, 2)}%)\")\n",
    "    plt.show()\n",
    "\n",
    "\n",
    "# Function to get the top n keywords for each cluster\n",
    "def get_top_keywords(data, clusters, labels, n_terms):\n",
    "    \n",
    "    df = pd.DataFrame(data.todense()).groupby(clusters).mean()\n",
    "    \n",
    "    for i, r in df.iterrows():\n",
    "        print(f'\\nCluster {i}')\n",
    "        # Sorting values in decreasing order and printing the first n terms\n",
    "        print(', '.join([labels[t] for t in np.argsort(r)[::-1][:n_terms]]))\n",
    "\n",
    "\n",
    "# Function for computing the coherence score\n",
    "def compute_coherence_values(corpus, sent_speeches, sentim_id2word, k, a, b):\n",
    "    lda_model = LdaModel(corpus=corpus,\n",
    "                         id2word=sentim_id2word,\n",
    "                         num_topics=k, \n",
    "                         random_state=42,\n",
    "                         chunksize=len(corpus),\n",
    "                         passes=10,\n",
    "                         alpha=a,\n",
    "                         eta=b)\n",
    "    \n",
    "    coherence_model_lda = CoherenceModel(model=lda_model, texts=sent_speeches, dictionary=sentim_id2word, coherence='c_v')\n",
    "    \n",
    "    return coherence_model_lda.get_coherence()\n",
    "\n",
    "\n",
    "# Function for computing the coherence score for different hyperparameter combinations\n",
    "def topic_num_search(sent_corpus, sent_speeches, sentim_dict):\n",
    "    grid = {}\n",
    "    grid['Validation_Set'] = {} \n",
    "\n",
    "    min_topics = 2\n",
    "    max_topics = 10\n",
    "    step_size = 2\n",
    "    topics_range = range(min_topics, max_topics, step_size)\n",
    "\n",
    "    warnings.filterwarnings(\"ignore\", category=DeprecationWarning) \n",
    "\n",
    "    corpus_sets = [sent_corpus]\n",
    "    corpus_title = ['100% Corpus']\n",
    "\n",
    "    alpha=['symmetric', 'asymmetric']\n",
    "    beta=['symmetric']\n",
    "\n",
    "    model_results = {'Validation_Set': [],\n",
    "                    'Topics': [],\n",
    "                    'Alpha': [],\n",
    "                    'Beta': [],\n",
    "                    'Coherence': []\n",
    "                    }\n",
    "\n",
    "    if 1 == 1:\n",
    "        pbar = tqdm.tqdm(total=len(corpus_sets)*len(topics_range)*len(alpha)*len(beta))\n",
    "        \n",
    "        for i in range(len(corpus_sets)):\n",
    "            for k in topics_range:\n",
    "                for a in alpha:\n",
    "                    for b in beta:\n",
    "                        print(i, k, a, b)\n",
    "                        \n",
    "                        cv = compute_coherence_values(corpus=corpus_sets[i], sent_speeches=sent_speeches, sentim_id2word=sentim_dict,\n",
    "                                                      k=k, a=a, b=b)\n",
    "                        model_results['Validation_Set'].append(corpus_title[i])\n",
    "                        model_results['Topics'].append(k)\n",
    "                        model_results['Alpha'].append(a)\n",
    "                        model_results['Beta'].append(b)\n",
    "                        model_results['Coherence'].append(cv)\n",
    "                        print({k: v[-1] for k, v in model_results.items()})\n",
    "\n",
    "                        pbar.update(1)\n",
    "        pbar.close()\n",
    "        model_results=pd.DataFrame(model_results)\n",
    "    \n",
    "    return model_results\n",
    "\n",
    "\n",
    "# Function for displaying top n words from each topic\n",
    "def display_topics(lda_model, num_topics, no_top_words):\n",
    "    topic_dict = {}\n",
    "    for idx in range(num_topics):\n",
    "        topic_dict[f\"Topic {idx} words\"]= [x[0] for x in lda_model.show_topic(idx, no_top_words)]\n",
    "\n",
    "        topic_dict[f\"Topic {idx} weights\"]= [round(x[1], 4) for x in lda_model.show_topic(idx, no_top_words)]\n",
    "    return pd.DataFrame(topic_dict)"
   ]
  },
  {
   "cell_type": "markdown",
   "metadata": {},
   "source": [
    "Available columns include the translated title, date of the speech, translated text, date of the major event the speech was connected to, details of that event and an indicator if the speech took place before or after the event."
   ]
  },
  {
   "cell_type": "code",
   "execution_count": 3,
   "metadata": {},
   "outputs": [
    {
     "data": {
      "text/html": [
       "<div>\n",
       "<style scoped>\n",
       "    .dataframe tbody tr th:only-of-type {\n",
       "        vertical-align: middle;\n",
       "    }\n",
       "\n",
       "    .dataframe tbody tr th {\n",
       "        vertical-align: top;\n",
       "    }\n",
       "\n",
       "    .dataframe thead th {\n",
       "        text-align: right;\n",
       "    }\n",
       "</style>\n",
       "<table border=\"1\" class=\"dataframe\">\n",
       "  <thead>\n",
       "    <tr style=\"text-align: right;\">\n",
       "      <th></th>\n",
       "      <th>Translated_title</th>\n",
       "      <th>Date</th>\n",
       "      <th>Translated_text</th>\n",
       "      <th>Event_date</th>\n",
       "      <th>Detail</th>\n",
       "      <th>When</th>\n",
       "    </tr>\n",
       "  </thead>\n",
       "  <tbody>\n",
       "    <tr>\n",
       "      <th>0</th>\n",
       "      <td>Their Speech at the Inauguration Ceremony</td>\n",
       "      <td>2023-06-03</td>\n",
       "      <td>\\n\\nDear Nation, Dear Heads of State and Gover...</td>\n",
       "      <td>2023-05-28</td>\n",
       "      <td>Recep Tayyip Erdoğan won the election between ...</td>\n",
       "      <td>after</td>\n",
       "    </tr>\n",
       "    <tr>\n",
       "      <th>1</th>\n",
       "      <td>Their Speech at the Social Complex After the E...</td>\n",
       "      <td>2023-05-28</td>\n",
       "      <td>\\n\\nWe love Turkey very much. Isn't this natio...</td>\n",
       "      <td>2023-05-28</td>\n",
       "      <td>Recep Tayyip Erdoğan won the election between ...</td>\n",
       "      <td>after</td>\n",
       "    </tr>\n",
       "    <tr>\n",
       "      <th>2</th>\n",
       "      <td>Strong Industry, Strong Türkiye Speech at the ...</td>\n",
       "      <td>2023-05-25</td>\n",
       "      <td>\\n\\nDear Industrialists,\\nDear Brothers and Si...</td>\n",
       "      <td>2023-05-28</td>\n",
       "      <td>Recep Tayyip Erdoğan won the election between ...</td>\n",
       "      <td>before</td>\n",
       "    </tr>\n",
       "    <tr>\n",
       "      <th>3</th>\n",
       "      <td>Their Speech at the Keçiören NGO Representativ...</td>\n",
       "      <td>2023-05-24</td>\n",
       "      <td>\\n\\nDear Ankara residents,\\nDear Beautiful Peo...</td>\n",
       "      <td>2023-05-28</td>\n",
       "      <td>Recep Tayyip Erdoğan won the election between ...</td>\n",
       "      <td>before</td>\n",
       "    </tr>\n",
       "    <tr>\n",
       "      <th>4</th>\n",
       "      <td>Their Speech at the Great Rumelia Meeting</td>\n",
       "      <td>2023-05-22</td>\n",
       "      <td>\\n\\nOur Dear Youth,\\nDear Ladies and Sisters,\\...</td>\n",
       "      <td>2023-05-28</td>\n",
       "      <td>Recep Tayyip Erdoğan won the election between ...</td>\n",
       "      <td>before</td>\n",
       "    </tr>\n",
       "  </tbody>\n",
       "</table>\n",
       "</div>"
      ],
      "text/plain": [
       "                                    Translated_title        Date  \\\n",
       "0          Their Speech at the Inauguration Ceremony  2023-06-03   \n",
       "1  Their Speech at the Social Complex After the E...  2023-05-28   \n",
       "2  Strong Industry, Strong Türkiye Speech at the ...  2023-05-25   \n",
       "3  Their Speech at the Keçiören NGO Representativ...  2023-05-24   \n",
       "4          Their Speech at the Great Rumelia Meeting  2023-05-22   \n",
       "\n",
       "                                     Translated_text  Event_date  \\\n",
       "0  \\n\\nDear Nation, Dear Heads of State and Gover...  2023-05-28   \n",
       "1  \\n\\nWe love Turkey very much. Isn't this natio...  2023-05-28   \n",
       "2  \\n\\nDear Industrialists,\\nDear Brothers and Si...  2023-05-28   \n",
       "3  \\n\\nDear Ankara residents,\\nDear Beautiful Peo...  2023-05-28   \n",
       "4  \\n\\nOur Dear Youth,\\nDear Ladies and Sisters,\\...  2023-05-28   \n",
       "\n",
       "                                              Detail    When  \n",
       "0  Recep Tayyip Erdoğan won the election between ...   after  \n",
       "1  Recep Tayyip Erdoğan won the election between ...   after  \n",
       "2  Recep Tayyip Erdoğan won the election between ...  before  \n",
       "3  Recep Tayyip Erdoğan won the election between ...  before  \n",
       "4  Recep Tayyip Erdoğan won the election between ...  before  "
      ]
     },
     "execution_count": 3,
     "metadata": {},
     "output_type": "execute_result"
    }
   ],
   "source": [
    "# Loading the speeches of Turkey's president\n",
    "speeches_df = pd.read_csv(\"Erdogan_translated_speeches.csv\")\n",
    "speeches_df.head()"
   ]
  },
  {
   "cell_type": "markdown",
   "metadata": {},
   "source": [
    "Dataset does not include any missing values."
   ]
  },
  {
   "cell_type": "code",
   "execution_count": 4,
   "metadata": {},
   "outputs": [
    {
     "data": {
      "text/plain": [
       "Translated_title    0\n",
       "Date                0\n",
       "Translated_text     0\n",
       "Event_date          0\n",
       "Detail              0\n",
       "When                0\n",
       "dtype: int64"
      ]
     },
     "execution_count": 4,
     "metadata": {},
     "output_type": "execute_result"
    }
   ],
   "source": [
    "# Checking for NAs\n",
    "speeches_df.isna().sum()"
   ]
  },
  {
   "cell_type": "markdown",
   "metadata": {},
   "source": [
    "The text is cleaned for further analysis."
   ]
  },
  {
   "cell_type": "code",
   "execution_count": 5,
   "metadata": {},
   "outputs": [
    {
     "data": {
      "text/html": [
       "<div>\n",
       "<style scoped>\n",
       "    .dataframe tbody tr th:only-of-type {\n",
       "        vertical-align: middle;\n",
       "    }\n",
       "\n",
       "    .dataframe tbody tr th {\n",
       "        vertical-align: top;\n",
       "    }\n",
       "\n",
       "    .dataframe thead th {\n",
       "        text-align: right;\n",
       "    }\n",
       "</style>\n",
       "<table border=\"1\" class=\"dataframe\">\n",
       "  <thead>\n",
       "    <tr style=\"text-align: right;\">\n",
       "      <th></th>\n",
       "      <th>Translated_title</th>\n",
       "      <th>Date</th>\n",
       "      <th>Translated_text</th>\n",
       "      <th>Event_date</th>\n",
       "      <th>Detail</th>\n",
       "      <th>When</th>\n",
       "    </tr>\n",
       "  </thead>\n",
       "  <tbody>\n",
       "    <tr>\n",
       "      <th>0</th>\n",
       "      <td>Their Speech at the Inauguration Ceremony</td>\n",
       "      <td>2023-06-03</td>\n",
       "      <td>dear nation dear head state government dear pa...</td>\n",
       "      <td>2023-05-28</td>\n",
       "      <td>Recep Tayyip Erdoğan won the election between ...</td>\n",
       "      <td>after</td>\n",
       "    </tr>\n",
       "    <tr>\n",
       "      <th>1</th>\n",
       "      <td>Their Speech at the Social Complex After the E...</td>\n",
       "      <td>2023-05-28</td>\n",
       "      <td>love turkey much isnt nation loved love qandil...</td>\n",
       "      <td>2023-05-28</td>\n",
       "      <td>Recep Tayyip Erdoğan won the election between ...</td>\n",
       "      <td>after</td>\n",
       "    </tr>\n",
       "    <tr>\n",
       "      <th>2</th>\n",
       "      <td>Strong Industry, Strong Türkiye Speech at the ...</td>\n",
       "      <td>2023-05-25</td>\n",
       "      <td>dear industrialist dear brother sister greet h...</td>\n",
       "      <td>2023-05-28</td>\n",
       "      <td>Recep Tayyip Erdoğan won the election between ...</td>\n",
       "      <td>before</td>\n",
       "    </tr>\n",
       "    <tr>\n",
       "      <th>3</th>\n",
       "      <td>Their Speech at the Keçiören NGO Representativ...</td>\n",
       "      <td>2023-05-24</td>\n",
       "      <td>dear ankara resident dear beautiful people kei...</td>\n",
       "      <td>2023-05-28</td>\n",
       "      <td>Recep Tayyip Erdoğan won the election between ...</td>\n",
       "      <td>before</td>\n",
       "    </tr>\n",
       "    <tr>\n",
       "      <th>4</th>\n",
       "      <td>Their Speech at the Great Rumelia Meeting</td>\n",
       "      <td>2023-05-22</td>\n",
       "      <td>dear youth dear lady sister dear citizen greet...</td>\n",
       "      <td>2023-05-28</td>\n",
       "      <td>Recep Tayyip Erdoğan won the election between ...</td>\n",
       "      <td>before</td>\n",
       "    </tr>\n",
       "  </tbody>\n",
       "</table>\n",
       "</div>"
      ],
      "text/plain": [
       "                                    Translated_title        Date  \\\n",
       "0          Their Speech at the Inauguration Ceremony  2023-06-03   \n",
       "1  Their Speech at the Social Complex After the E...  2023-05-28   \n",
       "2  Strong Industry, Strong Türkiye Speech at the ...  2023-05-25   \n",
       "3  Their Speech at the Keçiören NGO Representativ...  2023-05-24   \n",
       "4          Their Speech at the Great Rumelia Meeting  2023-05-22   \n",
       "\n",
       "                                     Translated_text  Event_date  \\\n",
       "0  dear nation dear head state government dear pa...  2023-05-28   \n",
       "1  love turkey much isnt nation loved love qandil...  2023-05-28   \n",
       "2  dear industrialist dear brother sister greet h...  2023-05-28   \n",
       "3  dear ankara resident dear beautiful people kei...  2023-05-28   \n",
       "4  dear youth dear lady sister dear citizen greet...  2023-05-28   \n",
       "\n",
       "                                              Detail    When  \n",
       "0  Recep Tayyip Erdoğan won the election between ...   after  \n",
       "1  Recep Tayyip Erdoğan won the election between ...   after  \n",
       "2  Recep Tayyip Erdoğan won the election between ...  before  \n",
       "3  Recep Tayyip Erdoğan won the election between ...  before  \n",
       "4  Recep Tayyip Erdoğan won the election between ...  before  "
      ]
     },
     "execution_count": 5,
     "metadata": {},
     "output_type": "execute_result"
    }
   ],
   "source": [
    "text_df_clean = speeches_df.copy()\n",
    "text_df_clean[\"Translated_text\"] = text_df_clean.Translated_text.map(preprocess_text)\n",
    "text_df_clean.head()"
   ]
  },
  {
   "cell_type": "markdown",
   "metadata": {},
   "source": [
    "## Text clustering"
   ]
  },
  {
   "cell_type": "markdown",
   "metadata": {},
   "source": [
    "Every speech is represented as a TF-IDF vector, with the inclusion of bigrams and exclusion of terms that appear in less than 5% of all speeches."
   ]
  },
  {
   "cell_type": "code",
   "execution_count": 6,
   "metadata": {},
   "outputs": [],
   "source": [
    "tfidf_text_vectorizer = TfidfVectorizer(ngram_range=(1,2), min_df=0.05)\n",
    "tfidf_text_vectors = tfidf_text_vectorizer.fit_transform(text_df_clean.Translated_text)"
   ]
  },
  {
   "cell_type": "markdown",
   "metadata": {},
   "source": [
    "Using the elbow method on the Sum of Square Error plot, it was decided that the speeches fall into one of seven clusters."
   ]
  },
  {
   "cell_type": "code",
   "execution_count": 7,
   "metadata": {},
   "outputs": [
    {
     "data": {
      "image/png": "[encoded data removed]",
      "text/plain": [
       "<Figure size 1000x800 with 2 Axes>"
      ]
     },
     "metadata": {},
     "output_type": "display_data"
    }
   ],
   "source": [
    "get_clusters_number(tfidf_text_vectors, 15)"
   ]
  },
  {
   "cell_type": "markdown",
   "metadata": {},
   "source": [
    "Now, the determined number of clusters will be used to apply K-means algorithm on the data. Plotting may not be ideal here, since the explained variance of two principal components is not very high."
   ]
  },
  {
   "cell_type": "code",
   "execution_count": 8,
   "metadata": {},
   "outputs": [
    {
     "data": {
      "image/png": "[encoded data removed]",
      "text/plain": [
       "<Figure size 640x480 with 1 Axes>"
      ]
     },
     "metadata": {},
     "output_type": "display_data"
    }
   ],
   "source": [
    "text_k = 7\n",
    "kfit = KMeans(n_clusters=text_k, n_init='auto', random_state=42)\n",
    "clusters = kfit.fit_predict(tfidf_text_vectors)\n",
    "plot_clusters(tfidf_text_vectors, clusters, text_k)"
   ]
  },
  {
   "cell_type": "markdown",
   "metadata": {},
   "source": [
    "To get a better grasp of what each cluster refers to, 15 top keywords are printed."
   ]
  },
  {
   "cell_type": "code",
   "execution_count": 9,
   "metadata": {},
   "outputs": [
    {
     "name": "stdout",
     "output_type": "stream",
     "text": [
      "\n",
      "Cluster 0\n",
      "istanbul, brother, conquest, binali, say, know, chp, nation, candidate, people, one, yldrm, mayor, metropolitan, binali yldrm\n",
      "\n",
      "Cluster 1\n",
      "nation, coup, july, coup attempt, attempt, country, one, turkey, state, armed, terrorist, force, organization, democracy, tank\n",
      "\n",
      "Cluster 2\n",
      "nation, country, konya, people, teknofest, brother, turkey, one, say, mr kemal, chp, kemal, young, space, year\n",
      "\n",
      "Cluster 3\n",
      "system, country, presidential system, nation, say, yes, presidential, executive, one, military service, governed, management, new system, constitutional amendment, amendment\n",
      "\n",
      "Cluster 4\n",
      "nation, brother, country, say, people, turkey, know, headman, mosque, one, siva, said, come, van, rize\n",
      "\n",
      "Cluster 5\n",
      "earthquake, aid, disaster, thousand, rescue, search rescue, earthquake zone, search, zone, province, region, team, destruction, citizen, country\n",
      "\n",
      "Cluster 6\n",
      "nation, country, turkey, election, party, one, people, like, would, brother, year, ak party, every, ak, dear\n"
     ]
    }
   ],
   "source": [
    "get_top_keywords(tfidf_text_vectors, clusters, tfidf_text_vectorizer.get_feature_names_out(), 15)"
   ]
  },
  {
   "cell_type": "markdown",
   "metadata": {},
   "source": [
    "## Sentiment Analysis and topic modeling"
   ]
  },
  {
   "cell_type": "markdown",
   "metadata": {},
   "source": [
    "Next step of the analysis involves inspecting what topics are present in speech paragraphs with positive and negative sentiment. Paragraphs were determined to be more suitable for this task than whole text of speech, because it was very possible that the overall sentiment would be positive, since politicians try to appeal to the public. By dividing each speech into paragraphs, it is possible to see what issues the president is speaking about negatively."
   ]
  },
  {
   "cell_type": "markdown",
   "metadata": {},
   "source": [
    "The sentiment is obtained with VADER."
   ]
  },
  {
   "cell_type": "code",
   "execution_count": 10,
   "metadata": {},
   "outputs": [],
   "source": [
    "par_list = [par for speech in speeches_df[\"Translated_text\"].map(lambda x: x.split(\"\\n\")) for par in speech if len(par) > 40]\n",
    "par_df = pd.DataFrame(par_list, columns=[\"Paragraph\"])\n",
    "par_df[\"Sentiment\"] = par_df.Paragraph.map(analyser.polarity_scores)\n",
    "par_df[\"Sentiment\"] = par_df[\"Sentiment\"].map(lambda x: x[\"compound\"])"
   ]
  },
  {
   "cell_type": "markdown",
   "metadata": {},
   "source": [
    "Threshold values from the literature (https://github.com/cjhutto/vaderSentiment) suggest that a compound score below -0.05 relates to negative pieces of text."
   ]
  },
  {
   "cell_type": "code",
   "execution_count": 11,
   "metadata": {},
   "outputs": [],
   "source": [
    "par_df[\"Sentiment\"] = par_df[\"Sentiment\"].map(lambda x: \"positive\" if x>=0.05 else (\"neutral\" if x>-0.05 else \"negative\"))"
   ]
  },
  {
   "cell_type": "markdown",
   "metadata": {},
   "source": [
    "A clear majority of paragraphs contain positive language."
   ]
  },
  {
   "cell_type": "code",
   "execution_count": 12,
   "metadata": {},
   "outputs": [
    {
     "data": {
      "text/html": [
       "<div>\n",
       "<style scoped>\n",
       "    .dataframe tbody tr th:only-of-type {\n",
       "        vertical-align: middle;\n",
       "    }\n",
       "\n",
       "    .dataframe tbody tr th {\n",
       "        vertical-align: top;\n",
       "    }\n",
       "\n",
       "    .dataframe thead th {\n",
       "        text-align: right;\n",
       "    }\n",
       "</style>\n",
       "<table border=\"1\" class=\"dataframe\">\n",
       "  <thead>\n",
       "    <tr style=\"text-align: right;\">\n",
       "      <th></th>\n",
       "      <th>Paragraph</th>\n",
       "    </tr>\n",
       "    <tr>\n",
       "      <th>Sentiment</th>\n",
       "      <th></th>\n",
       "    </tr>\n",
       "  </thead>\n",
       "  <tbody>\n",
       "    <tr>\n",
       "      <th>negative</th>\n",
       "      <td>825</td>\n",
       "    </tr>\n",
       "    <tr>\n",
       "      <th>neutral</th>\n",
       "      <td>307</td>\n",
       "    </tr>\n",
       "    <tr>\n",
       "      <th>positive</th>\n",
       "      <td>1904</td>\n",
       "    </tr>\n",
       "  </tbody>\n",
       "</table>\n",
       "</div>"
      ],
      "text/plain": [
       "           Paragraph\n",
       "Sentiment           \n",
       "negative         825\n",
       "neutral          307\n",
       "positive        1904"
      ]
     },
     "execution_count": 12,
     "metadata": {},
     "output_type": "execute_result"
    }
   ],
   "source": [
    "par_df.groupby(\"Sentiment\").count()"
   ]
  },
  {
   "cell_type": "markdown",
   "metadata": {},
   "source": [
    "It is necessary to preprocess text as was done before."
   ]
  },
  {
   "cell_type": "code",
   "execution_count": 13,
   "metadata": {},
   "outputs": [
    {
     "data": {
      "text/html": [
       "<div>\n",
       "<style scoped>\n",
       "    .dataframe tbody tr th:only-of-type {\n",
       "        vertical-align: middle;\n",
       "    }\n",
       "\n",
       "    .dataframe tbody tr th {\n",
       "        vertical-align: top;\n",
       "    }\n",
       "\n",
       "    .dataframe thead th {\n",
       "        text-align: right;\n",
       "    }\n",
       "</style>\n",
       "<table border=\"1\" class=\"dataframe\">\n",
       "  <thead>\n",
       "    <tr style=\"text-align: right;\">\n",
       "      <th></th>\n",
       "      <th>Paragraph</th>\n",
       "      <th>Sentiment</th>\n",
       "    </tr>\n",
       "  </thead>\n",
       "  <tbody>\n",
       "    <tr>\n",
       "      <th>0</th>\n",
       "      <td>dear nation dear head state government</td>\n",
       "      <td>positive</td>\n",
       "    </tr>\n",
       "    <tr>\n",
       "      <th>1</th>\n",
       "      <td>dear country representative dear friend home a...</td>\n",
       "      <td>positive</td>\n",
       "    </tr>\n",
       "    <tr>\n",
       "      <th>2</th>\n",
       "      <td>greet heartfelt feeling respect affection plea...</td>\n",
       "      <td>positive</td>\n",
       "    </tr>\n",
       "    <tr>\n",
       "      <th>3</th>\n",
       "      <td>beginning word thank god giving opportunity se...</td>\n",
       "      <td>positive</td>\n",
       "    </tr>\n",
       "    <tr>\n",
       "      <th>4</th>\n",
       "      <td>congratulate citizen strengthen power democrac...</td>\n",
       "      <td>positive</td>\n",
       "    </tr>\n",
       "  </tbody>\n",
       "</table>\n",
       "</div>"
      ],
      "text/plain": [
       "                                           Paragraph Sentiment\n",
       "0             dear nation dear head state government  positive\n",
       "1  dear country representative dear friend home a...  positive\n",
       "2  greet heartfelt feeling respect affection plea...  positive\n",
       "3  beginning word thank god giving opportunity se...  positive\n",
       "4  congratulate citizen strengthen power democrac...  positive"
      ]
     },
     "execution_count": 13,
     "metadata": {},
     "output_type": "execute_result"
    }
   ],
   "source": [
    "par_df.Paragraph = par_df.Paragraph.map(lambda x: preprocess_text(x))\n",
    "par_df.head()"
   ]
  },
  {
   "cell_type": "code",
   "execution_count": 14,
   "metadata": {},
   "outputs": [],
   "source": [
    "pos_df = par_df.loc[par_df.Sentiment == \"positive\"].reset_index(drop=True)\n",
    "neg_df = par_df.loc[par_df.Sentiment == \"negative\"].reset_index(drop=True)"
   ]
  },
  {
   "cell_type": "code",
   "execution_count": 15,
   "metadata": {},
   "outputs": [],
   "source": [
    "pos_speeches = [x.split() for x in pos_df[\"Paragraph\"]]\n",
    "pos_dictionary = Dictionary(pos_speeches)\n",
    "pos_corpus = [pos_dictionary.doc2bow(speech) for speech in pos_speeches]\n",
    "\n",
    "neg_speeches = [x.split() for x in neg_df[\"Paragraph\"]]\n",
    "neg_dictionary = Dictionary(neg_speeches)\n",
    "neg_corpus = [neg_dictionary.doc2bow(speech) for speech in neg_speeches]"
   ]
  },
  {
   "cell_type": "code",
   "execution_count": 16,
   "metadata": {},
   "outputs": [
    {
     "name": "stderr",
     "output_type": "stream",
     "text": [
      "  0%|          | 0/8 [00:00<?, ?it/s]"
     ]
    },
    {
     "name": "stdout",
     "output_type": "stream",
     "text": [
      "0 2 symmetric symmetric\n"
     ]
    },
    {
     "name": "stderr",
     "output_type": "stream",
     "text": [
      " 12%|█▎        | 1/8 [00:29<03:27, 29.60s/it]"
     ]
    },
    {
     "name": "stdout",
     "output_type": "stream",
     "text": [
      "{'Validation_Set': '100% Corpus', 'Topics': 2, 'Alpha': 'symmetric', 'Beta': 'symmetric', 'Coherence': 0.4288779762044961}\n",
      "0 2 asymmetric symmetric\n"
     ]
    },
    {
     "name": "stderr",
     "output_type": "stream",
     "text": [
      " 25%|██▌       | 2/8 [01:12<03:45, 37.54s/it]"
     ]
    },
    {
     "name": "stdout",
     "output_type": "stream",
     "text": [
      "{'Validation_Set': '100% Corpus', 'Topics': 2, 'Alpha': 'asymmetric', 'Beta': 'symmetric', 'Coherence': 0.39379805825788516}\n",
      "0 4 symmetric symmetric\n"
     ]
    },
    {
     "name": "stderr",
     "output_type": "stream",
     "text": [
      " 38%|███▊      | 3/8 [01:53<03:15, 39.10s/it]"
     ]
    },
    {
     "name": "stdout",
     "output_type": "stream",
     "text": [
      "{'Validation_Set': '100% Corpus', 'Topics': 4, 'Alpha': 'symmetric', 'Beta': 'symmetric', 'Coherence': 0.3906547246485983}\n",
      "0 4 asymmetric symmetric\n"
     ]
    },
    {
     "name": "stderr",
     "output_type": "stream",
     "text": [
      " 50%|█████     | 4/8 [02:35<02:40, 40.03s/it]"
     ]
    },
    {
     "name": "stdout",
     "output_type": "stream",
     "text": [
      "{'Validation_Set': '100% Corpus', 'Topics': 4, 'Alpha': 'asymmetric', 'Beta': 'symmetric', 'Coherence': 0.39824070197257655}\n",
      "0 6 symmetric symmetric\n"
     ]
    },
    {
     "name": "stderr",
     "output_type": "stream",
     "text": [
      " 62%|██████▎   | 5/8 [03:13<01:58, 39.51s/it]"
     ]
    },
    {
     "name": "stdout",
     "output_type": "stream",
     "text": [
      "{'Validation_Set': '100% Corpus', 'Topics': 6, 'Alpha': 'symmetric', 'Beta': 'symmetric', 'Coherence': 0.4035787041894117}\n",
      "0 6 asymmetric symmetric\n"
     ]
    },
    {
     "name": "stderr",
     "output_type": "stream",
     "text": [
      " 75%|███████▌  | 6/8 [03:54<01:19, 39.87s/it]"
     ]
    },
    {
     "name": "stdout",
     "output_type": "stream",
     "text": [
      "{'Validation_Set': '100% Corpus', 'Topics': 6, 'Alpha': 'asymmetric', 'Beta': 'symmetric', 'Coherence': 0.37894115061631356}\n",
      "0 8 symmetric symmetric\n"
     ]
    },
    {
     "name": "stderr",
     "output_type": "stream",
     "text": [
      " 88%|████████▊ | 7/8 [04:32<00:39, 39.39s/it]"
     ]
    },
    {
     "name": "stdout",
     "output_type": "stream",
     "text": [
      "{'Validation_Set': '100% Corpus', 'Topics': 8, 'Alpha': 'symmetric', 'Beta': 'symmetric', 'Coherence': 0.3920093482612654}\n",
      "0 8 asymmetric symmetric\n"
     ]
    },
    {
     "name": "stderr",
     "output_type": "stream",
     "text": [
      "100%|██████████| 8/8 [05:05<00:00, 38.20s/it]\n"
     ]
    },
    {
     "name": "stdout",
     "output_type": "stream",
     "text": [
      "{'Validation_Set': '100% Corpus', 'Topics': 8, 'Alpha': 'asymmetric', 'Beta': 'symmetric', 'Coherence': 0.39393655234704117}\n"
     ]
    },
    {
     "name": "stderr",
     "output_type": "stream",
     "text": [
      "  0%|          | 0/8 [00:00<?, ?it/s]"
     ]
    },
    {
     "name": "stdout",
     "output_type": "stream",
     "text": [
      "0 2 symmetric symmetric\n"
     ]
    },
    {
     "name": "stderr",
     "output_type": "stream",
     "text": [
      " 12%|█▎        | 1/8 [00:17<02:04, 17.75s/it]"
     ]
    },
    {
     "name": "stdout",
     "output_type": "stream",
     "text": [
      "{'Validation_Set': '100% Corpus', 'Topics': 2, 'Alpha': 'symmetric', 'Beta': 'symmetric', 'Coherence': 0.44277310320813285}\n",
      "0 2 asymmetric symmetric\n"
     ]
    },
    {
     "name": "stderr",
     "output_type": "stream",
     "text": [
      " 25%|██▌       | 2/8 [00:32<01:34, 15.71s/it]"
     ]
    },
    {
     "name": "stdout",
     "output_type": "stream",
     "text": [
      "{'Validation_Set': '100% Corpus', 'Topics': 2, 'Alpha': 'asymmetric', 'Beta': 'symmetric', 'Coherence': 0.42109862465204906}\n",
      "0 4 symmetric symmetric\n"
     ]
    },
    {
     "name": "stderr",
     "output_type": "stream",
     "text": [
      " 38%|███▊      | 3/8 [00:47<01:17, 15.50s/it]"
     ]
    },
    {
     "name": "stdout",
     "output_type": "stream",
     "text": [
      "{'Validation_Set': '100% Corpus', 'Topics': 4, 'Alpha': 'symmetric', 'Beta': 'symmetric', 'Coherence': 0.423052797841598}\n",
      "0 4 asymmetric symmetric\n"
     ]
    },
    {
     "name": "stderr",
     "output_type": "stream",
     "text": [
      " 50%|█████     | 4/8 [01:02<01:00, 15.23s/it]"
     ]
    },
    {
     "name": "stdout",
     "output_type": "stream",
     "text": [
      "{'Validation_Set': '100% Corpus', 'Topics': 4, 'Alpha': 'asymmetric', 'Beta': 'symmetric', 'Coherence': 0.38167178409202407}\n",
      "0 6 symmetric symmetric\n"
     ]
    },
    {
     "name": "stderr",
     "output_type": "stream",
     "text": [
      " 62%|██████▎   | 5/8 [01:12<00:40, 13.34s/it]"
     ]
    },
    {
     "name": "stdout",
     "output_type": "stream",
     "text": [
      "{'Validation_Set': '100% Corpus', 'Topics': 6, 'Alpha': 'symmetric', 'Beta': 'symmetric', 'Coherence': 0.40832198726365476}\n",
      "0 6 asymmetric symmetric\n"
     ]
    },
    {
     "name": "stderr",
     "output_type": "stream",
     "text": [
      " 75%|███████▌  | 6/8 [01:21<00:23, 11.85s/it]"
     ]
    },
    {
     "name": "stdout",
     "output_type": "stream",
     "text": [
      "{'Validation_Set': '100% Corpus', 'Topics': 6, 'Alpha': 'asymmetric', 'Beta': 'symmetric', 'Coherence': 0.4091821349576726}\n",
      "0 8 symmetric symmetric\n"
     ]
    },
    {
     "name": "stderr",
     "output_type": "stream",
     "text": [
      " 88%|████████▊ | 7/8 [01:35<00:12, 12.75s/it]"
     ]
    },
    {
     "name": "stdout",
     "output_type": "stream",
     "text": [
      "{'Validation_Set': '100% Corpus', 'Topics': 8, 'Alpha': 'symmetric', 'Beta': 'symmetric', 'Coherence': 0.36692491253878806}\n",
      "0 8 asymmetric symmetric\n"
     ]
    },
    {
     "name": "stderr",
     "output_type": "stream",
     "text": [
      "100%|██████████| 8/8 [01:49<00:00, 13.73s/it]"
     ]
    },
    {
     "name": "stdout",
     "output_type": "stream",
     "text": [
      "{'Validation_Set': '100% Corpus', 'Topics': 8, 'Alpha': 'asymmetric', 'Beta': 'symmetric', 'Coherence': 0.3883580792239643}\n"
     ]
    },
    {
     "name": "stderr",
     "output_type": "stream",
     "text": [
      "\n"
     ]
    }
   ],
   "source": [
    "pos_model_results = topic_num_search(pos_corpus, pos_speeches, pos_dictionary)\n",
    "neg_model_results = topic_num_search(neg_corpus, neg_speeches, neg_dictionary)"
   ]
  },
  {
   "cell_type": "markdown",
   "metadata": {},
   "source": [
    "Coherence score is a measure used for determining the interpretability of LDA topics to humans. Naturally, it can be used for optimizing the number of topics."
   ]
  },
  {
   "cell_type": "markdown",
   "metadata": {},
   "source": [
    "For positive paragraphs 8 or 6 topics are deemed most appropriate and for negative ones 2 or 4 topics."
   ]
  },
  {
   "cell_type": "code",
   "execution_count": 17,
   "metadata": {},
   "outputs": [
    {
     "data": {
      "text/html": [
       "<div>\n",
       "<style scoped>\n",
       "    .dataframe tbody tr th:only-of-type {\n",
       "        vertical-align: middle;\n",
       "    }\n",
       "\n",
       "    .dataframe tbody tr th {\n",
       "        vertical-align: top;\n",
       "    }\n",
       "\n",
       "    .dataframe thead th {\n",
       "        text-align: right;\n",
       "    }\n",
       "</style>\n",
       "<table border=\"1\" class=\"dataframe\">\n",
       "  <thead>\n",
       "    <tr style=\"text-align: right;\">\n",
       "      <th></th>\n",
       "      <th>Validation_Set</th>\n",
       "      <th>Topics</th>\n",
       "      <th>Alpha</th>\n",
       "      <th>Beta</th>\n",
       "      <th>Coherence</th>\n",
       "    </tr>\n",
       "  </thead>\n",
       "  <tbody>\n",
       "    <tr>\n",
       "      <th>0</th>\n",
       "      <td>100% Corpus</td>\n",
       "      <td>2</td>\n",
       "      <td>symmetric</td>\n",
       "      <td>symmetric</td>\n",
       "      <td>0.428878</td>\n",
       "    </tr>\n",
       "    <tr>\n",
       "      <th>4</th>\n",
       "      <td>100% Corpus</td>\n",
       "      <td>6</td>\n",
       "      <td>symmetric</td>\n",
       "      <td>symmetric</td>\n",
       "      <td>0.403579</td>\n",
       "    </tr>\n",
       "    <tr>\n",
       "      <th>3</th>\n",
       "      <td>100% Corpus</td>\n",
       "      <td>4</td>\n",
       "      <td>asymmetric</td>\n",
       "      <td>symmetric</td>\n",
       "      <td>0.398241</td>\n",
       "    </tr>\n",
       "    <tr>\n",
       "      <th>7</th>\n",
       "      <td>100% Corpus</td>\n",
       "      <td>8</td>\n",
       "      <td>asymmetric</td>\n",
       "      <td>symmetric</td>\n",
       "      <td>0.393937</td>\n",
       "    </tr>\n",
       "    <tr>\n",
       "      <th>1</th>\n",
       "      <td>100% Corpus</td>\n",
       "      <td>2</td>\n",
       "      <td>asymmetric</td>\n",
       "      <td>symmetric</td>\n",
       "      <td>0.393798</td>\n",
       "    </tr>\n",
       "  </tbody>\n",
       "</table>\n",
       "</div>"
      ],
      "text/plain": [
       "  Validation_Set  Topics       Alpha       Beta  Coherence\n",
       "0    100% Corpus       2   symmetric  symmetric   0.428878\n",
       "4    100% Corpus       6   symmetric  symmetric   0.403579\n",
       "3    100% Corpus       4  asymmetric  symmetric   0.398241\n",
       "7    100% Corpus       8  asymmetric  symmetric   0.393937\n",
       "1    100% Corpus       2  asymmetric  symmetric   0.393798"
      ]
     },
     "execution_count": 17,
     "metadata": {},
     "output_type": "execute_result"
    }
   ],
   "source": [
    "pos_model_results.sort_values('Coherence', ascending = False).head()"
   ]
  },
  {
   "cell_type": "code",
   "execution_count": 18,
   "metadata": {},
   "outputs": [
    {
     "data": {
      "text/html": [
       "<div>\n",
       "<style scoped>\n",
       "    .dataframe tbody tr th:only-of-type {\n",
       "        vertical-align: middle;\n",
       "    }\n",
       "\n",
       "    .dataframe tbody tr th {\n",
       "        vertical-align: top;\n",
       "    }\n",
       "\n",
       "    .dataframe thead th {\n",
       "        text-align: right;\n",
       "    }\n",
       "</style>\n",
       "<table border=\"1\" class=\"dataframe\">\n",
       "  <thead>\n",
       "    <tr style=\"text-align: right;\">\n",
       "      <th></th>\n",
       "      <th>Validation_Set</th>\n",
       "      <th>Topics</th>\n",
       "      <th>Alpha</th>\n",
       "      <th>Beta</th>\n",
       "      <th>Coherence</th>\n",
       "    </tr>\n",
       "  </thead>\n",
       "  <tbody>\n",
       "    <tr>\n",
       "      <th>0</th>\n",
       "      <td>100% Corpus</td>\n",
       "      <td>2</td>\n",
       "      <td>symmetric</td>\n",
       "      <td>symmetric</td>\n",
       "      <td>0.442773</td>\n",
       "    </tr>\n",
       "    <tr>\n",
       "      <th>2</th>\n",
       "      <td>100% Corpus</td>\n",
       "      <td>4</td>\n",
       "      <td>symmetric</td>\n",
       "      <td>symmetric</td>\n",
       "      <td>0.423053</td>\n",
       "    </tr>\n",
       "    <tr>\n",
       "      <th>1</th>\n",
       "      <td>100% Corpus</td>\n",
       "      <td>2</td>\n",
       "      <td>asymmetric</td>\n",
       "      <td>symmetric</td>\n",
       "      <td>0.421099</td>\n",
       "    </tr>\n",
       "    <tr>\n",
       "      <th>5</th>\n",
       "      <td>100% Corpus</td>\n",
       "      <td>6</td>\n",
       "      <td>asymmetric</td>\n",
       "      <td>symmetric</td>\n",
       "      <td>0.409182</td>\n",
       "    </tr>\n",
       "    <tr>\n",
       "      <th>4</th>\n",
       "      <td>100% Corpus</td>\n",
       "      <td>6</td>\n",
       "      <td>symmetric</td>\n",
       "      <td>symmetric</td>\n",
       "      <td>0.408322</td>\n",
       "    </tr>\n",
       "  </tbody>\n",
       "</table>\n",
       "</div>"
      ],
      "text/plain": [
       "  Validation_Set  Topics       Alpha       Beta  Coherence\n",
       "0    100% Corpus       2   symmetric  symmetric   0.442773\n",
       "2    100% Corpus       4   symmetric  symmetric   0.423053\n",
       "1    100% Corpus       2  asymmetric  symmetric   0.421099\n",
       "5    100% Corpus       6  asymmetric  symmetric   0.409182\n",
       "4    100% Corpus       6   symmetric  symmetric   0.408322"
      ]
     },
     "execution_count": 18,
     "metadata": {},
     "output_type": "execute_result"
    }
   ],
   "source": [
    "neg_model_results.sort_values('Coherence', ascending = False).head()"
   ]
  },
  {
   "cell_type": "code",
   "execution_count": 19,
   "metadata": {},
   "outputs": [],
   "source": [
    "# Creating LDA models with the hyperparameters chosen according to the highest coherence score\n",
    "passes=10\n",
    "\n",
    "# LDA model for positive tweets\n",
    "pos_lda_model = LdaModel(\n",
    "    corpus=pos_corpus,\n",
    "    id2word=pos_dictionary,\n",
    "    chunksize=len(pos_corpus),\n",
    "    alpha='symmetric',\n",
    "    eta='symmetric',\n",
    "    random_state=42,\n",
    "    num_topics=2,\n",
    "    passes=passes,\n",
    "    per_word_topics=True\n",
    ")\n",
    "\n",
    "# LDA model for negative tweets\n",
    "neg_lda_model = LdaModel(\n",
    "    corpus=neg_corpus,\n",
    "    id2word=neg_dictionary,\n",
    "    chunksize=len(neg_corpus),\n",
    "    alpha='symmetric',\n",
    "    eta='symmetric',\n",
    "    random_state=42,\n",
    "    num_topics=2,\n",
    "    passes=passes,\n",
    "    per_word_topics=True\n",
    ")"
   ]
  },
  {
   "cell_type": "code",
   "execution_count": 21,
   "metadata": {},
   "outputs": [
    {
     "data": {
      "text/html": [
       "<div>\n",
       "<style scoped>\n",
       "    .dataframe tbody tr th:only-of-type {\n",
       "        vertical-align: middle;\n",
       "    }\n",
       "\n",
       "    .dataframe tbody tr th {\n",
       "        vertical-align: top;\n",
       "    }\n",
       "\n",
       "    .dataframe thead th {\n",
       "        text-align: right;\n",
       "    }\n",
       "</style>\n",
       "<table border=\"1\" class=\"dataframe\">\n",
       "  <thead>\n",
       "    <tr style=\"text-align: right;\">\n",
       "      <th></th>\n",
       "      <th>Topic 0 words</th>\n",
       "      <th>Topic 0 weights</th>\n",
       "      <th>Topic 1 words</th>\n",
       "      <th>Topic 1 weights</th>\n",
       "    </tr>\n",
       "  </thead>\n",
       "  <tbody>\n",
       "    <tr>\n",
       "      <th>0</th>\n",
       "      <td>nation</td>\n",
       "      <td>0.0109</td>\n",
       "      <td>nation</td>\n",
       "      <td>0.0144</td>\n",
       "    </tr>\n",
       "    <tr>\n",
       "      <th>1</th>\n",
       "      <td>country</td>\n",
       "      <td>0.0101</td>\n",
       "      <td>like</td>\n",
       "      <td>0.0104</td>\n",
       "    </tr>\n",
       "    <tr>\n",
       "      <th>2</th>\n",
       "      <td>turkey</td>\n",
       "      <td>0.0101</td>\n",
       "      <td>would</td>\n",
       "      <td>0.0084</td>\n",
       "    </tr>\n",
       "    <tr>\n",
       "      <th>3</th>\n",
       "      <td>say</td>\n",
       "      <td>0.0079</td>\n",
       "      <td>people</td>\n",
       "      <td>0.0083</td>\n",
       "    </tr>\n",
       "    <tr>\n",
       "      <th>4</th>\n",
       "      <td>one</td>\n",
       "      <td>0.0074</td>\n",
       "      <td>god</td>\n",
       "      <td>0.0077</td>\n",
       "    </tr>\n",
       "    <tr>\n",
       "      <th>5</th>\n",
       "      <td>people</td>\n",
       "      <td>0.0063</td>\n",
       "      <td>country</td>\n",
       "      <td>0.0076</td>\n",
       "    </tr>\n",
       "    <tr>\n",
       "      <th>6</th>\n",
       "      <td>brother</td>\n",
       "      <td>0.0058</td>\n",
       "      <td>party</td>\n",
       "      <td>0.0060</td>\n",
       "    </tr>\n",
       "    <tr>\n",
       "      <th>7</th>\n",
       "      <td>party</td>\n",
       "      <td>0.0052</td>\n",
       "      <td>thank</td>\n",
       "      <td>0.0058</td>\n",
       "    </tr>\n",
       "    <tr>\n",
       "      <th>8</th>\n",
       "      <td>year</td>\n",
       "      <td>0.0050</td>\n",
       "      <td>election</td>\n",
       "      <td>0.0056</td>\n",
       "    </tr>\n",
       "    <tr>\n",
       "      <th>9</th>\n",
       "      <td>work</td>\n",
       "      <td>0.0049</td>\n",
       "      <td>brother</td>\n",
       "      <td>0.0056</td>\n",
       "    </tr>\n",
       "  </tbody>\n",
       "</table>\n",
       "</div>"
      ],
      "text/plain": [
       "  Topic 0 words  Topic 0 weights Topic 1 words  Topic 1 weights\n",
       "0        nation           0.0109        nation           0.0144\n",
       "1       country           0.0101          like           0.0104\n",
       "2        turkey           0.0101         would           0.0084\n",
       "3           say           0.0079        people           0.0083\n",
       "4           one           0.0074           god           0.0077\n",
       "5        people           0.0063       country           0.0076\n",
       "6       brother           0.0058         party           0.0060\n",
       "7         party           0.0052         thank           0.0058\n",
       "8          year           0.0050      election           0.0056\n",
       "9          work           0.0049       brother           0.0056"
      ]
     },
     "execution_count": 21,
     "metadata": {},
     "output_type": "execute_result"
    }
   ],
   "source": [
    "display_topics(pos_lda_model, 2, 10)"
   ]
  },
  {
   "cell_type": "code",
   "execution_count": 22,
   "metadata": {},
   "outputs": [
    {
     "data": {
      "text/html": [
       "<div>\n",
       "<style scoped>\n",
       "    .dataframe tbody tr th:only-of-type {\n",
       "        vertical-align: middle;\n",
       "    }\n",
       "\n",
       "    .dataframe tbody tr th {\n",
       "        vertical-align: top;\n",
       "    }\n",
       "\n",
       "    .dataframe thead th {\n",
       "        text-align: right;\n",
       "    }\n",
       "</style>\n",
       "<table border=\"1\" class=\"dataframe\">\n",
       "  <thead>\n",
       "    <tr style=\"text-align: right;\">\n",
       "      <th></th>\n",
       "      <th>Topic 0 words</th>\n",
       "      <th>Topic 0 weights</th>\n",
       "      <th>Topic 1 words</th>\n",
       "      <th>Topic 1 weights</th>\n",
       "    </tr>\n",
       "  </thead>\n",
       "  <tbody>\n",
       "    <tr>\n",
       "      <th>0</th>\n",
       "      <td>nation</td>\n",
       "      <td>0.0153</td>\n",
       "      <td>say</td>\n",
       "      <td>0.0070</td>\n",
       "    </tr>\n",
       "    <tr>\n",
       "      <th>1</th>\n",
       "      <td>country</td>\n",
       "      <td>0.0145</td>\n",
       "      <td>thousand</td>\n",
       "      <td>0.0066</td>\n",
       "    </tr>\n",
       "    <tr>\n",
       "      <th>2</th>\n",
       "      <td>terrorist</td>\n",
       "      <td>0.0111</td>\n",
       "      <td>nation</td>\n",
       "      <td>0.0062</td>\n",
       "    </tr>\n",
       "    <tr>\n",
       "      <th>3</th>\n",
       "      <td>organization</td>\n",
       "      <td>0.0096</td>\n",
       "      <td>know</td>\n",
       "      <td>0.0060</td>\n",
       "    </tr>\n",
       "    <tr>\n",
       "      <th>4</th>\n",
       "      <td>state</td>\n",
       "      <td>0.0068</td>\n",
       "      <td>people</td>\n",
       "      <td>0.0060</td>\n",
       "    </tr>\n",
       "    <tr>\n",
       "      <th>5</th>\n",
       "      <td>one</td>\n",
       "      <td>0.0064</td>\n",
       "      <td>istanbul</td>\n",
       "      <td>0.0055</td>\n",
       "    </tr>\n",
       "    <tr>\n",
       "      <th>6</th>\n",
       "      <td>say</td>\n",
       "      <td>0.0062</td>\n",
       "      <td>brother</td>\n",
       "      <td>0.0053</td>\n",
       "    </tr>\n",
       "    <tr>\n",
       "      <th>7</th>\n",
       "      <td>people</td>\n",
       "      <td>0.0062</td>\n",
       "      <td>earthquake</td>\n",
       "      <td>0.0053</td>\n",
       "    </tr>\n",
       "    <tr>\n",
       "      <th>8</th>\n",
       "      <td>turkey</td>\n",
       "      <td>0.0057</td>\n",
       "      <td>country</td>\n",
       "      <td>0.0053</td>\n",
       "    </tr>\n",
       "    <tr>\n",
       "      <th>9</th>\n",
       "      <td>know</td>\n",
       "      <td>0.0050</td>\n",
       "      <td>citizen</td>\n",
       "      <td>0.0051</td>\n",
       "    </tr>\n",
       "  </tbody>\n",
       "</table>\n",
       "</div>"
      ],
      "text/plain": [
       "  Topic 0 words  Topic 0 weights Topic 1 words  Topic 1 weights\n",
       "0        nation           0.0153           say           0.0070\n",
       "1       country           0.0145      thousand           0.0066\n",
       "2     terrorist           0.0111        nation           0.0062\n",
       "3  organization           0.0096          know           0.0060\n",
       "4         state           0.0068        people           0.0060\n",
       "5           one           0.0064      istanbul           0.0055\n",
       "6           say           0.0062       brother           0.0053\n",
       "7        people           0.0062    earthquake           0.0053\n",
       "8        turkey           0.0057       country           0.0053\n",
       "9          know           0.0050       citizen           0.0051"
      ]
     },
     "execution_count": 22,
     "metadata": {},
     "output_type": "execute_result"
    }
   ],
   "source": [
    "display_topics(neg_lda_model, 2, 10)"
   ]
  },
  {
   "cell_type": "markdown",
   "metadata": {},
   "source": [
    "## Word2Vec"
   ]
  },
  {
   "cell_type": "code",
   "execution_count": 23,
   "metadata": {},
   "outputs": [],
   "source": [
    "w2v_data = speeches_df[\"Translated_text\"].map(lambda x: preprocess_sent(x))\n",
    "w2v_data = [w for sent in w2v_data for w in sent]"
   ]
  },
  {
   "cell_type": "code",
   "execution_count": 24,
   "metadata": {},
   "outputs": [],
   "source": [
    "phrases = Phrases(w2v_data, min_count=10, progress_per=10)\n",
    "bigram = Phraser(phrases)\n",
    "w2v_data = bigram[w2v_data]"
   ]
  },
  {
   "cell_type": "code",
   "execution_count": 25,
   "metadata": {},
   "outputs": [],
   "source": [
    "# Create CBOW model \n",
    "cbow_model = Word2Vec(w2v_data, min_count = 1, vector_size=100, window = 5, seed=42)"
   ]
  },
  {
   "cell_type": "code",
   "execution_count": 26,
   "metadata": {},
   "outputs": [
    {
     "data": {
      "text/plain": [
       "[('country', 0.9998452067375183),\n",
       " ('without', 0.9998189210891724),\n",
       " ('hopefully', 0.9998155832290649),\n",
       " ('new', 0.9998136758804321),\n",
       " ('world', 0.9998123645782471),\n",
       " ('politics', 0.9998111724853516),\n",
       " ('region', 0.999809980392456),\n",
       " ('place', 0.9998053908348083),\n",
       " ('make', 0.999805212020874),\n",
       " ('land', 0.9998046159744263)]"
      ]
     },
     "execution_count": 26,
     "metadata": {},
     "output_type": "execute_result"
    }
   ],
   "source": [
    "cbow_model.wv.most_similar(\"turkey\", topn=10)"
   ]
  },
  {
   "cell_type": "code",
   "execution_count": 27,
   "metadata": {},
   "outputs": [],
   "source": [
    "# Create Skip Gram model \n",
    "sgram_model = Word2Vec(w2v_data, min_count = 1, vector_size=100, window = 5, sg = 1, seed=42)"
   ]
  },
  {
   "cell_type": "code",
   "execution_count": 28,
   "metadata": {},
   "outputs": [
    {
     "data": {
      "text/plain": [
       "[('hopefully', 0.9800099730491638),\n",
       " ('continue', 0.9793446063995361),\n",
       " ('future', 0.975422739982605),\n",
       " ('country', 0.9739157557487488),\n",
       " ('hope', 0.9723590612411499),\n",
       " ('build', 0.9708608984947205),\n",
       " ('democracy', 0.9707207679748535),\n",
       " ('goal', 0.9701604843139648),\n",
       " ('power', 0.9697168469429016),\n",
       " ('strong', 0.9675586223602295)]"
      ]
     },
     "execution_count": 28,
     "metadata": {},
     "output_type": "execute_result"
    }
   ],
   "source": [
    "sgram_model.wv.most_similar(\"turkey\", topn=10)"
   ]
  }
 ],
 "metadata": {
  "kernelspec": {
   "display_name": "tmsmm_env",
   "language": "python",
   "name": "python3"
  },
  "language_info": {
   "codemirror_mode": {
    "name": "ipython",
    "version": 3
   },
   "file_extension": ".py",
   "mimetype": "text/x-python",
   "name": "python",
   "nbconvert_exporter": "python",
   "pygments_lexer": "ipython3",
   "version": "3.8.18"
  }
 },
 "nbformat": 4,
 "nbformat_minor": 2
}
